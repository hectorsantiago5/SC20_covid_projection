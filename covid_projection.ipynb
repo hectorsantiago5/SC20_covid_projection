{
 "nbformat": 4,
 "nbformat_minor": 0,
 "metadata": {
  "kernelspec": {
   "display_name": "Python 3",
   "language": "python",
   "name": "python3"
  },
  "language_info": {
   "codemirror_mode": {
    "name": "ipython",
    "version": 2
   },
   "file_extension": ".py",
   "mimetype": "text/x-python",
   "name": "python",
   "nbconvert_exporter": "python",
   "pygments_lexer": "ipython2",
   "version": "2.7.6"
  },
  "colab": {
   "name": "covid_projection.ipynb",
   "provenance": [],
   "collapsed_sections": []
  }
 },
 "cells": [
  {
   "cell_type": "markdown",
   "metadata": {
    "collapsed": false,
    "pycharm": {
     "name": "#%% md\n"
    },
    "id": "4LkqIkBhKLVR"
   },
   "source": [
    "# Covid-19 Data for Fulton County, Georgia\n",
    "\n",
    "- [Click here to go back to the homepage](https://sc20-hack-9.uc.r.appspot.com)\n",
    "- This data is made available by [The New York Time's GitHub repo](https://github.com/nytimes/covid-19-data)\n",
    "- This project was created during SC20 Hackathon\n",
    "- We processed the data to provide insights on the COVID-19 impact in Fulton County, Georgia\n",
    "- We Compute the death rate of COVID-19 in Fulton county\n",
    "\n",
    "![QUARANTEAM](https://sc20-hack-9.uc.r.appspot.com/static/quaranteam2.png)\n"
   ]
  },
  {
   "cell_type": "code",
   "metadata": {
    "collapsed": true,
    "id": "HTK563ErKLVT",
    "outputId": "19b60b96-b232-4da4-e9bb-fd6192595a57",
    "colab": {
     "base_uri": "https://localhost:8080/",
     "height": 368
    }
   },
   "source": [
    "import pandas as pd\n",
    "import requests\n",
    "\n",
    "%matplotlib inline\n",
    "\n",
    "# Get State level data \n",
    "url = \"https://raw.githubusercontent.com/nytimes/covid-19-data/master/us-states.csv\"\n",
    "state_df = pd.read_csv(url)\n",
    "\n",
    "# Get county level data\n",
    "url2 = \"https://raw.githubusercontent.com/nytimes/covid-19-data/master/us-counties.csv\"\n",
    "df = pd.read_csv(url2)\n",
    "\n",
    "\n",
    "# Get Fulton county data only\n",
    "df1 = df[df.fips == 13121]\n",
    "# Get death rate for Fulton county\n",
    "df1['rate'] = df1['deaths'] / df1['cases']\n",
    "df1.tail(7)\n"
   ],
   "execution_count": 1,
   "outputs": [
    {
     "output_type": "stream",
     "text": [
      "/usr/local/lib/python3.6/dist-packages/ipykernel_launcher.py:16: SettingWithCopyWarning: \n",
      "A value is trying to be set on a copy of a slice from a DataFrame.\n",
      "Try using .loc[row_indexer,col_indexer] = value instead\n",
      "\n",
      "See the caveats in the documentation: https://pandas.pydata.org/pandas-docs/stable/user_guide/indexing.html#returning-a-view-versus-a-copy\n",
      "  app.launch_new_instance()\n"
     ],
     "name": "stderr"
    },
    {
     "output_type": "execute_result",
     "data": {
      "text/html": [
       "<div>\n",
       "<style scoped>\n",
       "    .dataframe tbody tr th:only-of-type {\n",
       "        vertical-align: middle;\n",
       "    }\n",
       "\n",
       "    .dataframe tbody tr th {\n",
       "        vertical-align: top;\n",
       "    }\n",
       "\n",
       "    .dataframe thead th {\n",
       "        text-align: right;\n",
       "    }\n",
       "</style>\n",
       "<table border=\"1\" class=\"dataframe\">\n",
       "  <thead>\n",
       "    <tr style=\"text-align: right;\">\n",
       "      <th></th>\n",
       "      <th>date</th>\n",
       "      <th>county</th>\n",
       "      <th>state</th>\n",
       "      <th>fips</th>\n",
       "      <th>cases</th>\n",
       "      <th>deaths</th>\n",
       "      <th>rate</th>\n",
       "    </tr>\n",
       "  </thead>\n",
       "  <tbody>\n",
       "    <tr>\n",
       "      <th>690548</th>\n",
       "      <td>2020-11-02</td>\n",
       "      <td>Fulton</td>\n",
       "      <td>Georgia</td>\n",
       "      <td>13121.0</td>\n",
       "      <td>34027</td>\n",
       "      <td>628</td>\n",
       "      <td>0.018456</td>\n",
       "    </tr>\n",
       "    <tr>\n",
       "      <th>693791</th>\n",
       "      <td>2020-11-03</td>\n",
       "      <td>Fulton</td>\n",
       "      <td>Georgia</td>\n",
       "      <td>13121.0</td>\n",
       "      <td>34155</td>\n",
       "      <td>629</td>\n",
       "      <td>0.018416</td>\n",
       "    </tr>\n",
       "    <tr>\n",
       "      <th>697034</th>\n",
       "      <td>2020-11-04</td>\n",
       "      <td>Fulton</td>\n",
       "      <td>Georgia</td>\n",
       "      <td>13121.0</td>\n",
       "      <td>34388</td>\n",
       "      <td>656</td>\n",
       "      <td>0.019076</td>\n",
       "    </tr>\n",
       "    <tr>\n",
       "      <th>700279</th>\n",
       "      <td>2020-11-05</td>\n",
       "      <td>Fulton</td>\n",
       "      <td>Georgia</td>\n",
       "      <td>13121.0</td>\n",
       "      <td>34605</td>\n",
       "      <td>658</td>\n",
       "      <td>0.019015</td>\n",
       "    </tr>\n",
       "    <tr>\n",
       "      <th>703523</th>\n",
       "      <td>2020-11-06</td>\n",
       "      <td>Fulton</td>\n",
       "      <td>Georgia</td>\n",
       "      <td>13121.0</td>\n",
       "      <td>34801</td>\n",
       "      <td>662</td>\n",
       "      <td>0.019022</td>\n",
       "    </tr>\n",
       "    <tr>\n",
       "      <th>706766</th>\n",
       "      <td>2020-11-07</td>\n",
       "      <td>Fulton</td>\n",
       "      <td>Georgia</td>\n",
       "      <td>13121.0</td>\n",
       "      <td>34940</td>\n",
       "      <td>663</td>\n",
       "      <td>0.018975</td>\n",
       "    </tr>\n",
       "    <tr>\n",
       "      <th>710010</th>\n",
       "      <td>2020-11-08</td>\n",
       "      <td>Fulton</td>\n",
       "      <td>Georgia</td>\n",
       "      <td>13121.0</td>\n",
       "      <td>35109</td>\n",
       "      <td>663</td>\n",
       "      <td>0.018884</td>\n",
       "    </tr>\n",
       "  </tbody>\n",
       "</table>\n",
       "</div>"
      ],
      "text/plain": [
       "              date  county    state     fips  cases  deaths      rate\n",
       "690548  2020-11-02  Fulton  Georgia  13121.0  34027     628  0.018456\n",
       "693791  2020-11-03  Fulton  Georgia  13121.0  34155     629  0.018416\n",
       "697034  2020-11-04  Fulton  Georgia  13121.0  34388     656  0.019076\n",
       "700279  2020-11-05  Fulton  Georgia  13121.0  34605     658  0.019015\n",
       "703523  2020-11-06  Fulton  Georgia  13121.0  34801     662  0.019022\n",
       "706766  2020-11-07  Fulton  Georgia  13121.0  34940     663  0.018975\n",
       "710010  2020-11-08  Fulton  Georgia  13121.0  35109     663  0.018884"
      ]
     },
     "metadata": {
      "tags": []
     },
     "execution_count": 1
    }
   ]
  },
  {
   "cell_type": "code",
   "metadata": {
    "pycharm": {
     "name": "#%%\n"
    },
    "id": "_w_9CGRTKLVg",
    "outputId": "0a8d828e-6bac-4707-d02f-8c5a18e1a312",
    "colab": {
     "base_uri": "https://localhost:8080/",
     "height": 297
    }
   },
   "source": [
    "df1.describe()\n"
   ],
   "execution_count": null,
   "outputs": [
    {
     "output_type": "execute_result",
     "data": {
      "text/html": [
       "<div>\n",
       "<style scoped>\n",
       "    .dataframe tbody tr th:only-of-type {\n",
       "        vertical-align: middle;\n",
       "    }\n",
       "\n",
       "    .dataframe tbody tr th {\n",
       "        vertical-align: top;\n",
       "    }\n",
       "\n",
       "    .dataframe thead th {\n",
       "        text-align: right;\n",
       "    }\n",
       "</style>\n",
       "<table border=\"1\" class=\"dataframe\">\n",
       "  <thead>\n",
       "    <tr style=\"text-align: right;\">\n",
       "      <th></th>\n",
       "      <th>fips</th>\n",
       "      <th>cases</th>\n",
       "      <th>deaths</th>\n",
       "      <th>rate</th>\n",
       "    </tr>\n",
       "  </thead>\n",
       "  <tbody>\n",
       "    <tr>\n",
       "      <th>count</th>\n",
       "      <td>252.0</td>\n",
       "      <td>252.000000</td>\n",
       "      <td>252.000000</td>\n",
       "      <td>252.000000</td>\n",
       "    </tr>\n",
       "    <tr>\n",
       "      <th>mean</th>\n",
       "      <td>13121.0</td>\n",
       "      <td>13617.194444</td>\n",
       "      <td>322.218254</td>\n",
       "      <td>0.029028</td>\n",
       "    </tr>\n",
       "    <tr>\n",
       "      <th>std</th>\n",
       "      <td>0.0</td>\n",
       "      <td>11899.891932</td>\n",
       "      <td>213.791675</td>\n",
       "      <td>0.014243</td>\n",
       "    </tr>\n",
       "    <tr>\n",
       "      <th>min</th>\n",
       "      <td>13121.0</td>\n",
       "      <td>2.000000</td>\n",
       "      <td>0.000000</td>\n",
       "      <td>0.000000</td>\n",
       "    </tr>\n",
       "    <tr>\n",
       "      <th>25%</th>\n",
       "      <td>13121.0</td>\n",
       "      <td>3038.000000</td>\n",
       "      <td>127.750000</td>\n",
       "      <td>0.020715</td>\n",
       "    </tr>\n",
       "    <tr>\n",
       "      <th>50%</th>\n",
       "      <td>13121.0</td>\n",
       "      <td>8767.500000</td>\n",
       "      <td>315.000000</td>\n",
       "      <td>0.022856</td>\n",
       "    </tr>\n",
       "    <tr>\n",
       "      <th>75%</th>\n",
       "      <td>13121.0</td>\n",
       "      <td>25643.500000</td>\n",
       "      <td>545.000000</td>\n",
       "      <td>0.041116</td>\n",
       "    </tr>\n",
       "    <tr>\n",
       "      <th>max</th>\n",
       "      <td>13121.0</td>\n",
       "      <td>35109.000000</td>\n",
       "      <td>663.000000</td>\n",
       "      <td>0.057304</td>\n",
       "    </tr>\n",
       "  </tbody>\n",
       "</table>\n",
       "</div>"
      ],
      "text/plain": [
       "          fips         cases      deaths        rate\n",
       "count    252.0    252.000000  252.000000  252.000000\n",
       "mean   13121.0  13617.194444  322.218254    0.029028\n",
       "std        0.0  11899.891932  213.791675    0.014243\n",
       "min    13121.0      2.000000    0.000000    0.000000\n",
       "25%    13121.0   3038.000000  127.750000    0.020715\n",
       "50%    13121.0   8767.500000  315.000000    0.022856\n",
       "75%    13121.0  25643.500000  545.000000    0.041116\n",
       "max    13121.0  35109.000000  663.000000    0.057304"
      ]
     },
     "metadata": {
      "tags": []
     },
     "execution_count": 3
    }
   ]
  },
  {
   "cell_type": "code",
   "metadata": {
    "pycharm": {
     "name": "#%%\n"
    },
    "id": "D-8BGUUtKLVk",
    "outputId": "4a28afed-261a-4430-ba2d-52c4b2ead80d",
    "colab": {
     "base_uri": "https://localhost:8080/",
     "height": 1000
    }
   },
   "source": [
    "# remove fips data from plot\n",
    "if df1.fips is not None:\n",
    "    df1.drop('fips', axis='columns', inplace=True)\n",
    "\n",
    "df1.plot(kind='line', x='cases')\n",
    "df1.plot(kind='bar', x='cases')\n",
    "df1.plot(kind='line', x='deaths')\n",
    "df1.plot(kind='bar', x='deaths')\n",
    "df1.hist(figsize=(15,10))\n"
   ],
   "execution_count": null,
   "outputs": [
    {
     "output_type": "stream",
     "text": [
      "/usr/local/lib/python3.6/dist-packages/pandas/core/frame.py:4174: SettingWithCopyWarning: \n",
      "A value is trying to be set on a copy of a slice from a DataFrame\n",
      "\n",
      "See the caveats in the documentation: https://pandas.pydata.org/pandas-docs/stable/user_guide/indexing.html#returning-a-view-versus-a-copy\n",
      "  errors=errors,\n"
     ],
     "name": "stderr"
    },
    {
     "output_type": "execute_result",
     "data": {
      "text/plain": [
       "array([[<matplotlib.axes._subplots.AxesSubplot object at 0x7fb1d1737dd8>,\n",
       "        <matplotlib.axes._subplots.AxesSubplot object at 0x7fb1d074c0b8>],\n",
       "       [<matplotlib.axes._subplots.AxesSubplot object at 0x7fb1d0621588>,\n",
       "        <matplotlib.axes._subplots.AxesSubplot object at 0x7fb1d06547f0>]],\n",
       "      dtype=object)"
      ]
     },
     "metadata": {
      "tags": []
     },
     "execution_count": 4
    },
    {
     "output_type": "display_data",
     "data": {
      "image/png": "[encoded data removed]",
      "text/plain": [
       "<Figure size 432x288 with 1 Axes>"
      ]
     },
     "metadata": {
      "tags": [],
      "needs_background": "light"
     }
    },
    {
     "output_type": "display_data",
     "data": {
      "image/png": "[encoded data removed]",
      "text/plain": [
       "<Figure size 432x288 with 1 Axes>"
      ]
     },
     "metadata": {
      "tags": [],
      "needs_background": "light"
     }
    },
    {
     "output_type": "display_data",
     "data": {
      "image/png": "[encoded data removed]",
      "text/plain": [
       "<Figure size 432x288 with 1 Axes>"
      ]
     },
     "metadata": {
      "tags": [],
      "needs_background": "light"
     }
    },
    {
     "output_type": "display_data",
     "data": {
      "image/png": "[encoded data removed]",
      "text/plain": [
       "<Figure size 432x288 with 1 Axes>"
      ]
     },
     "metadata": {
      "tags": [],
      "needs_background": "light"
     }
    },
    {
     "output_type": "display_data",
     "data": {
      "image/png": "[encoded data removed]",
      "text/plain": [
       "<Figure size 1080x720 with 4 Axes>"
      ]
     },
     "metadata": {
      "tags": [],
      "needs_background": "light"
     }
    }
   ]
  },
  {
   "cell_type": "markdown",
   "metadata": {
    "collapsed": false,
    "pycharm": {
     "name": "#%% md\n"
    },
    "id": "XWb7jFRiKLVr"
   },
   "source": [
    "# Covid-19 Data for the state of Georgia\n",
    "\n",
    "- This data is made available by [The New York Time's GitHub repo](https://github.com/nytimes/covid-19-data)\n",
    "- We processed the data to provide insights on the COVID-19 impact in Fulton County, Georgia\n",
    "- We Compute the death rate of COVID-19 in Georgia\n"
   ]
  },
  {
   "cell_type": "code",
   "metadata": {
    "pycharm": {
     "name": "#%%\n"
    },
    "id": "gfHCgEYLKLVs",
    "outputId": "379a05f4-f31d-4c40-a9d3-eaa22ee31db2",
    "colab": {
     "base_uri": "https://localhost:8080/",
     "height": 368
    }
   },
   "source": [
    "# Georgia COVID data\n",
    "df2 = state_df[state_df.state == 'Georgia']\n",
    "\n",
    "# Get death rate for Georgia\n",
    "df2['rate'] = state_df['deaths'] / state_df['cases']\n",
    "df2.tail(7)"
   ],
   "execution_count": null,
   "outputs": [
    {
     "output_type": "stream",
     "text": [
      "/usr/local/lib/python3.6/dist-packages/ipykernel_launcher.py:5: SettingWithCopyWarning: \n",
      "A value is trying to be set on a copy of a slice from a DataFrame.\n",
      "Try using .loc[row_indexer,col_indexer] = value instead\n",
      "\n",
      "See the caveats in the documentation: https://pandas.pydata.org/pandas-docs/stable/user_guide/indexing.html#returning-a-view-versus-a-copy\n",
      "  \"\"\"\n"
     ],
     "name": "stderr"
    },
    {
     "output_type": "execute_result",
     "data": {
      "text/html": [
       "<div>\n",
       "<style scoped>\n",
       "    .dataframe tbody tr th:only-of-type {\n",
       "        vertical-align: middle;\n",
       "    }\n",
       "\n",
       "    .dataframe tbody tr th {\n",
       "        vertical-align: top;\n",
       "    }\n",
       "\n",
       "    .dataframe thead th {\n",
       "        text-align: right;\n",
       "    }\n",
       "</style>\n",
       "<table border=\"1\" class=\"dataframe\">\n",
       "  <thead>\n",
       "    <tr style=\"text-align: right;\">\n",
       "      <th></th>\n",
       "      <th>date</th>\n",
       "      <th>state</th>\n",
       "      <th>fips</th>\n",
       "      <th>cases</th>\n",
       "      <th>deaths</th>\n",
       "      <th>rate</th>\n",
       "    </tr>\n",
       "  </thead>\n",
       "  <tbody>\n",
       "    <tr>\n",
       "      <th>13444</th>\n",
       "      <td>2020-11-02</td>\n",
       "      <td>Georgia</td>\n",
       "      <td>13</td>\n",
       "      <td>377261</td>\n",
       "      <td>7810</td>\n",
       "      <td>0.020702</td>\n",
       "    </tr>\n",
       "    <tr>\n",
       "      <th>13499</th>\n",
       "      <td>2020-11-03</td>\n",
       "      <td>Georgia</td>\n",
       "      <td>13</td>\n",
       "      <td>378894</td>\n",
       "      <td>7837</td>\n",
       "      <td>0.020684</td>\n",
       "    </tr>\n",
       "    <tr>\n",
       "      <th>13554</th>\n",
       "      <td>2020-11-04</td>\n",
       "      <td>Georgia</td>\n",
       "      <td>13</td>\n",
       "      <td>382113</td>\n",
       "      <td>8303</td>\n",
       "      <td>0.021729</td>\n",
       "    </tr>\n",
       "    <tr>\n",
       "      <th>13609</th>\n",
       "      <td>2020-11-05</td>\n",
       "      <td>Georgia</td>\n",
       "      <td>13</td>\n",
       "      <td>384531</td>\n",
       "      <td>8359</td>\n",
       "      <td>0.021738</td>\n",
       "    </tr>\n",
       "    <tr>\n",
       "      <th>13664</th>\n",
       "      <td>2020-11-06</td>\n",
       "      <td>Georgia</td>\n",
       "      <td>13</td>\n",
       "      <td>387202</td>\n",
       "      <td>8389</td>\n",
       "      <td>0.021666</td>\n",
       "    </tr>\n",
       "    <tr>\n",
       "      <th>13719</th>\n",
       "      <td>2020-11-07</td>\n",
       "      <td>Georgia</td>\n",
       "      <td>13</td>\n",
       "      <td>389257</td>\n",
       "      <td>8427</td>\n",
       "      <td>0.021649</td>\n",
       "    </tr>\n",
       "    <tr>\n",
       "      <th>13774</th>\n",
       "      <td>2020-11-08</td>\n",
       "      <td>Georgia</td>\n",
       "      <td>13</td>\n",
       "      <td>390617</td>\n",
       "      <td>8428</td>\n",
       "      <td>0.021576</td>\n",
       "    </tr>\n",
       "  </tbody>\n",
       "</table>\n",
       "</div>"
      ],
      "text/plain": [
       "             date    state  fips   cases  deaths      rate\n",
       "13444  2020-11-02  Georgia    13  377261    7810  0.020702\n",
       "13499  2020-11-03  Georgia    13  378894    7837  0.020684\n",
       "13554  2020-11-04  Georgia    13  382113    8303  0.021729\n",
       "13609  2020-11-05  Georgia    13  384531    8359  0.021738\n",
       "13664  2020-11-06  Georgia    13  387202    8389  0.021666\n",
       "13719  2020-11-07  Georgia    13  389257    8427  0.021649\n",
       "13774  2020-11-08  Georgia    13  390617    8428  0.021576"
      ]
     },
     "metadata": {
      "tags": []
     },
     "execution_count": 5
    }
   ]
  },
  {
   "cell_type": "code",
   "metadata": {
    "pycharm": {
     "name": "#%%\n"
    },
    "id": "WWaWv5fqKLVz",
    "outputId": "4e967ce1-9228-4685-9991-4df84b05d705",
    "colab": {
     "base_uri": "https://localhost:8080/",
     "height": 297
    }
   },
   "source": [
    "df2.describe()"
   ],
   "execution_count": null,
   "outputs": [
    {
     "output_type": "execute_result",
     "data": {
      "text/html": [
       "<div>\n",
       "<style scoped>\n",
       "    .dataframe tbody tr th:only-of-type {\n",
       "        vertical-align: middle;\n",
       "    }\n",
       "\n",
       "    .dataframe tbody tr th {\n",
       "        vertical-align: top;\n",
       "    }\n",
       "\n",
       "    .dataframe thead th {\n",
       "        text-align: right;\n",
       "    }\n",
       "</style>\n",
       "<table border=\"1\" class=\"dataframe\">\n",
       "  <thead>\n",
       "    <tr style=\"text-align: right;\">\n",
       "      <th></th>\n",
       "      <th>fips</th>\n",
       "      <th>cases</th>\n",
       "      <th>deaths</th>\n",
       "      <th>rate</th>\n",
       "    </tr>\n",
       "  </thead>\n",
       "  <tbody>\n",
       "    <tr>\n",
       "      <th>count</th>\n",
       "      <td>252.0</td>\n",
       "      <td>252.000000</td>\n",
       "      <td>252.000000</td>\n",
       "      <td>252.000000</td>\n",
       "    </tr>\n",
       "    <tr>\n",
       "      <th>mean</th>\n",
       "      <td>13.0</td>\n",
       "      <td>142907.126984</td>\n",
       "      <td>3418.511905</td>\n",
       "      <td>0.029027</td>\n",
       "    </tr>\n",
       "    <tr>\n",
       "      <th>std</th>\n",
       "      <td>0.0</td>\n",
       "      <td>129379.696833</td>\n",
       "      <td>2599.717010</td>\n",
       "      <td>0.011387</td>\n",
       "    </tr>\n",
       "    <tr>\n",
       "      <th>min</th>\n",
       "      <td>13.0</td>\n",
       "      <td>2.000000</td>\n",
       "      <td>0.000000</td>\n",
       "      <td>0.000000</td>\n",
       "    </tr>\n",
       "    <tr>\n",
       "      <th>25%</th>\n",
       "      <td>13.0</td>\n",
       "      <td>28167.000000</td>\n",
       "      <td>1213.000000</td>\n",
       "      <td>0.021387</td>\n",
       "    </tr>\n",
       "    <tr>\n",
       "      <th>50%</th>\n",
       "      <td>13.0</td>\n",
       "      <td>90252.000000</td>\n",
       "      <td>2820.500000</td>\n",
       "      <td>0.023456</td>\n",
       "    </tr>\n",
       "    <tr>\n",
       "      <th>75%</th>\n",
       "      <td>13.0</td>\n",
       "      <td>266839.750000</td>\n",
       "      <td>5901.750000</td>\n",
       "      <td>0.040532</td>\n",
       "    </tr>\n",
       "    <tr>\n",
       "      <th>max</th>\n",
       "      <td>13.0</td>\n",
       "      <td>390617.000000</td>\n",
       "      <td>8428.000000</td>\n",
       "      <td>0.044955</td>\n",
       "    </tr>\n",
       "  </tbody>\n",
       "</table>\n",
       "</div>"
      ],
      "text/plain": [
       "        fips          cases       deaths        rate\n",
       "count  252.0     252.000000   252.000000  252.000000\n",
       "mean    13.0  142907.126984  3418.511905    0.029027\n",
       "std      0.0  129379.696833  2599.717010    0.011387\n",
       "min     13.0       2.000000     0.000000    0.000000\n",
       "25%     13.0   28167.000000  1213.000000    0.021387\n",
       "50%     13.0   90252.000000  2820.500000    0.023456\n",
       "75%     13.0  266839.750000  5901.750000    0.040532\n",
       "max     13.0  390617.000000  8428.000000    0.044955"
      ]
     },
     "metadata": {
      "tags": []
     },
     "execution_count": 6
    }
   ]
  },
  {
   "cell_type": "code",
   "metadata": {
    "pycharm": {
     "name": "#%%\n"
    },
    "id": "puWawR5WKLWC",
    "outputId": "3e97cdac-bb94-4c09-be24-9de18cc3d674",
    "colab": {
     "base_uri": "https://localhost:8080/",
     "height": 1000
    }
   },
   "source": [
    "# remove fips data from plot\n",
    "if df2.fips is not None:\n",
    "    df2.drop('fips', axis='columns', inplace=True)\n",
    "else:\n",
    "    pass\n",
    "\n",
    "df2.plot(kind='line', x='cases')\n",
    "df2.plot(kind='bar', x='cases')\n",
    "df2.plot(kind='line', x='deaths')\n",
    "df2.plot(kind='bar', x='deaths')\n",
    "df2.hist(figsize=(15,10))"
   ],
   "execution_count": null,
   "outputs": [
    {
     "output_type": "stream",
     "text": [
      "/usr/local/lib/python3.6/dist-packages/pandas/core/frame.py:4174: SettingWithCopyWarning: \n",
      "A value is trying to be set on a copy of a slice from a DataFrame\n",
      "\n",
      "See the caveats in the documentation: https://pandas.pydata.org/pandas-docs/stable/user_guide/indexing.html#returning-a-view-versus-a-copy\n",
      "  errors=errors,\n"
     ],
     "name": "stderr"
    },
    {
     "output_type": "execute_result",
     "data": {
      "text/plain": [
       "array([[<matplotlib.axes._subplots.AxesSubplot object at 0x7fb1cfd9fd30>,\n",
       "        <matplotlib.axes._subplots.AxesSubplot object at 0x7fb1d1415cc0>],\n",
       "       [<matplotlib.axes._subplots.AxesSubplot object at 0x7fb1d1456f28>,\n",
       "        <matplotlib.axes._subplots.AxesSubplot object at 0x7fb1d153e1d0>]],\n",
       "      dtype=object)"
      ]
     },
     "metadata": {
      "tags": []
     },
     "execution_count": 7
    },
    {
     "output_type": "display_data",
     "data": {
      "image/png": "[encoded data removed]",
      "text/plain": [
       "<Figure size 432x288 with 1 Axes>"
      ]
     },
     "metadata": {
      "tags": [],
      "needs_background": "light"
     }
    },
    {
     "output_type": "display_data",
     "data": {
      "image/png": "[encoded data removed]",
      "text/plain": [
       "<Figure size 432x288 with 1 Axes>"
      ]
     },
     "metadata": {
      "tags": [],
      "needs_background": "light"
     }
    },
    {
     "output_type": "display_data",
     "data": {
      "image/png": "[encoded data removed]",
      "text/plain": [
       "<Figure size 432x288 with 1 Axes>"
      ]
     },
     "metadata": {
      "tags": [],
      "needs_background": "light"
     }
    },
    {
     "output_type": "display_data",
     "data": {
      "image/png": "[encoded data removed]",
      "text/plain": [
       "<Figure size 432x288 with 1 Axes>"
      ]
     },
     "metadata": {
      "tags": [],
      "needs_background": "light"
     }
    },
    {
     "output_type": "display_data",
     "data": {
      "image/png": "[encoded data removed]",
      "text/plain": [
       "<Figure size 1080x720 with 4 Axes>"
      ]
     },
     "metadata": {
      "tags": [],
      "needs_background": "light"
     }
    }
   ]
  },
  {
   "cell_type": "markdown",
   "metadata": {
    "collapsed": false,
    "pycharm": {
     "name": "#%% md\n"
    },
    "id": "ETFgeP9sKLWJ"
   },
   "source": [
    "# Update 11-08-2020:\n",
    "* So far we have seen that the COVID-19 death rate is nearly equal in Fulton County to the entire state of Georgia\n",
    "    * According to the 2010 United States Census, Fulton County is one of if not the most populated counties in Georgia\n",
    "* In the following cells we will be using Linear Regression to predict what the COVID-19 impact will look like for Fulton County & Georgia"
   ]
  },
  {
   "cell_type": "code",
   "metadata": {
    "pycharm": {
     "name": "#%%\n"
    },
    "id": "xQePIA-IKLWK"
   },
   "source": [
    "import numpy as np\n",
    "import matplotlib.pyplot as plt\n",
    "from sklearn.linear_model import LinearRegression"
   ],
   "execution_count": null,
   "outputs": []
  },
  {
   "cell_type": "code",
   "metadata": {
    "pycharm": {
     "name": "#%%\n"
    },
    "id": "ilY3p_NIKLWN"
   },
   "source": [
    "x = np.array(df1['cases'])\n",
    "y = np.array(df1['deaths'])"
   ],
   "execution_count": null,
   "outputs": []
  },
  {
   "cell_type": "code",
   "metadata": {
    "pycharm": {
     "name": "#%%\n"
    },
    "id": "2pKu52niKLWR"
   },
   "source": [
    "linreg = LinearRegression()"
   ],
   "execution_count": null,
   "outputs": []
  },
  {
   "cell_type": "code",
   "metadata": {
    "pycharm": {
     "name": "#%%\n"
    },
    "id": "k5gEpu2KKLWU"
   },
   "source": [
    "x = x.reshape(-1,1)\n"
   ],
   "execution_count": null,
   "outputs": []
  },
  {
   "cell_type": "code",
   "metadata": {
    "pycharm": {
     "name": "#%%\n"
    },
    "id": "We3R4CP0KLWc",
    "outputId": "e87f5cd9-7e6b-47e1-9307-709820c661c4",
    "colab": {
     "base_uri": "https://localhost:8080/"
    }
   },
   "source": [
    "linreg.fit(x,y)"
   ],
   "execution_count": null,
   "outputs": [
    {
     "output_type": "execute_result",
     "data": {
      "text/plain": [
       "LinearRegression(copy_X=True, fit_intercept=True, n_jobs=None, normalize=False)"
      ]
     },
     "metadata": {
      "tags": []
     },
     "execution_count": 12
    }
   ]
  },
  {
   "cell_type": "markdown",
   "metadata": {
    "collapsed": false,
    "pycharm": {
     "name": "#%% md\n"
    },
    "id": "IDH3dSiEKLWj"
   },
   "source": [
    "# Linear Regression for COVID-19 deaths in Fulton County, Georgia:"
   ]
  },
  {
   "cell_type": "code",
   "metadata": {
    "pycharm": {
     "name": "#%%\n"
    },
    "id": "L27Zy_OCKLWk",
    "outputId": "25531214-2a06-4ee1-ecd4-d1de7bb809f2",
    "colab": {
     "base_uri": "https://localhost:8080/"
    }
   },
   "source": [
    "y_pred = linreg.predict(x)\n",
    "print('This is the models prediction for total deaths in Fulton County up to today: ' + str(y_pred[-1]))"
   ],
   "execution_count": null,
   "outputs": [
    {
     "output_type": "stream",
     "text": [
      "This is the models prediction for total deaths in Fulton County up to today: 694.552193290726\n"
     ],
     "name": "stdout"
    }
   ]
  },
  {
   "cell_type": "code",
   "metadata": {
    "pycharm": {
     "name": "#%%\n"
    },
    "id": "lxqWk_sjKLWo",
    "outputId": "26af48e6-b364-4ece-83d1-b552d7df5251",
    "colab": {
     "base_uri": "https://localhost:8080/",
     "height": 281
    }
   },
   "source": [
    "# Create a scatter plot with our linear regression model\n",
    "plt.scatter(x,y)\n",
    "plt.title('COVID-19 Deaths in Fulton County')\n",
    "plt.grid()\n",
    "plt.plot(x,y_pred, color='red')\n",
    "plt.show()"
   ],
   "execution_count": null,
   "outputs": [
    {
     "output_type": "display_data",
     "data": {
      "image/png": "[encoded data removed]",
      "text/plain": [
       "<Figure size 432x288 with 1 Axes>"
      ]
     },
     "metadata": {
      "tags": [],
      "needs_background": "light"
     }
    }
   ]
  },
  {
   "cell_type": "code",
   "metadata": {
    "pycharm": {
     "name": "#%%\n"
    },
    "id": "VYrG_zEVKLWw",
    "outputId": "c2f4a505-41b5-40db-acba-10b06aa744e1",
    "colab": {
     "base_uri": "https://localhost:8080/"
    }
   },
   "source": [
    "equation = (linreg.intercept_ + linreg.coef_*(x))\n",
    "print(equation[-1])"
   ],
   "execution_count": null,
   "outputs": [
    {
     "output_type": "stream",
     "text": [
      "[694.55219329]\n"
     ],
     "name": "stdout"
    }
   ]
  },
  {
   "cell_type": "code",
   "metadata": {
    "pycharm": {
     "name": "#%%\n"
    },
    "id": "UUUYlCV_KLWy"
   },
   "source": [
    "x1 = np.array(df1['deaths'])\n",
    "y1 = np.array(df1['cases'])"
   ],
   "execution_count": null,
   "outputs": []
  },
  {
   "cell_type": "code",
   "metadata": {
    "pycharm": {
     "name": "#%%\n"
    },
    "id": "6i1CRNzSKLWz"
   },
   "source": [
    "linreg1 = LinearRegression()\n"
   ],
   "execution_count": null,
   "outputs": []
  },
  {
   "cell_type": "code",
   "metadata": {
    "pycharm": {
     "name": "#%%\n"
    },
    "id": "YvVet09vKLW2"
   },
   "source": [
    "x1 = x1.reshape(-1,1)"
   ],
   "execution_count": null,
   "outputs": []
  },
  {
   "cell_type": "code",
   "metadata": {
    "pycharm": {
     "name": "#%%\n"
    },
    "id": "a1wMwXl6KLW4",
    "outputId": "c0740dda-2146-479e-884c-700b64dfcb32",
    "colab": {
     "base_uri": "https://localhost:8080/"
    }
   },
   "source": [
    "linreg1.fit(x1,y1)"
   ],
   "execution_count": null,
   "outputs": [
    {
     "output_type": "execute_result",
     "data": {
      "text/plain": [
       "LinearRegression(copy_X=True, fit_intercept=True, n_jobs=None, normalize=False)"
      ]
     },
     "metadata": {
      "tags": []
     },
     "execution_count": 19
    }
   ]
  },
  {
   "cell_type": "markdown",
   "metadata": {
    "collapsed": false,
    "pycharm": {
     "name": "#%% md\n"
    },
    "id": "oJ5D1PgQKLW6"
   },
   "source": [
    "# Linear Regression for COVID-19 cases in Fulton County, Georgia:"
   ]
  },
  {
   "cell_type": "code",
   "metadata": {
    "pycharm": {
     "name": "#%%\n"
    },
    "id": "CVi31q54KLW6",
    "outputId": "80f420eb-40b9-4d54-b998-66e39a7dbfa0",
    "colab": {
     "base_uri": "https://localhost:8080/"
    }
   },
   "source": [
    "y_pred1 = linreg1.predict(x1)\n",
    "print('This is the models prediction for total cases in Fulton County up to today: ' + str(y_pred1[-1]))"
   ],
   "execution_count": null,
   "outputs": [
    {
     "output_type": "stream",
     "text": [
      "This is the models prediction for total cases in Fulton County up to today: 31908.322902793934\n"
     ],
     "name": "stdout"
    }
   ]
  },
  {
   "cell_type": "code",
   "metadata": {
    "pycharm": {
     "name": "#%%\n"
    },
    "id": "v6vBxImiKLW8",
    "outputId": "3d9c34d2-0304-4571-9c7e-bcf3fd8726f2",
    "colab": {
     "base_uri": "https://localhost:8080/",
     "height": 281
    }
   },
   "source": [
    "plt.scatter(x1,y1)\n",
    "plt.title('COVID-19 Cases in Fulton County')\n",
    "plt.grid()\n",
    "plt.plot(x1,y_pred1, color='red')\n",
    "plt.show()"
   ],
   "execution_count": null,
   "outputs": [
    {
     "output_type": "display_data",
     "data": {
      "image/png": "[encoded data removed]",
      "text/plain": [
       "<Figure size 432x288 with 1 Axes>"
      ]
     },
     "metadata": {
      "tags": [],
      "needs_background": "light"
     }
    }
   ]
  },
  {
   "cell_type": "code",
   "metadata": {
    "pycharm": {
     "name": "#%%\n"
    },
    "id": "g9jM1v9mKLW_",
    "outputId": "a008ce07-e678-44ab-ffd1-6a7cca09daf4",
    "colab": {
     "base_uri": "https://localhost:8080/"
    }
   },
   "source": [
    "equation1 = (linreg1.intercept_ + linreg1.coef_*(x1))\n",
    "print(equation1[-1])\n"
   ],
   "execution_count": null,
   "outputs": [
    {
     "output_type": "stream",
     "text": [
      "[31908.32290279]\n"
     ],
     "name": "stdout"
    }
   ]
  },
  {
   "cell_type": "code",
   "metadata": {
    "id": "1p4m6SeDPOHT"
   },
   "source": [
    "x2 = np.array(df1['deaths'])\n",
    "y2 = np.array(df1['rate'])"
   ],
   "execution_count": null,
   "outputs": []
  },
  {
   "cell_type": "code",
   "metadata": {
    "id": "wSR8h4cqPuOs"
   },
   "source": [
    "linreg2 = LinearRegression()"
   ],
   "execution_count": null,
   "outputs": []
  },
  {
   "cell_type": "code",
   "metadata": {
    "id": "JLzZh2jLPyh_"
   },
   "source": [
    "x2 = x2.reshape(-1,1)"
   ],
   "execution_count": null,
   "outputs": []
  },
  {
   "cell_type": "code",
   "metadata": {
    "id": "4dpZAoDvP2zZ",
    "outputId": "8d56b983-ab73-470e-be42-e86141c106bf",
    "colab": {
     "base_uri": "https://localhost:8080/"
    }
   },
   "source": [
    "linreg2.fit(x2,y2)"
   ],
   "execution_count": null,
   "outputs": [
    {
     "output_type": "execute_result",
     "data": {
      "text/plain": [
       "LinearRegression(copy_X=True, fit_intercept=True, n_jobs=None, normalize=False)"
      ]
     },
     "metadata": {
      "tags": []
     },
     "execution_count": 26
    }
   ]
  },
  {
   "cell_type": "markdown",
   "metadata": {
    "id": "LzIVcKe9QDqP"
   },
   "source": [
    "# Linear Regression for COVID-19 death rate in Fulton County, Georgia:\n"
   ]
  },
  {
   "cell_type": "code",
   "metadata": {
    "id": "mWdaOntDQIf-",
    "outputId": "0d60dd6d-c715-4bcf-e89a-7fe63fb0a432",
    "colab": {
     "base_uri": "https://localhost:8080/"
    }
   },
   "source": [
    "y_pred2 = linreg2.predict(x2)\n",
    "print('This is the models prediction for the death rate in Fulton County up to today: ' + str(y_pred2[-1]))"
   ],
   "execution_count": null,
   "outputs": [
    {
     "output_type": "stream",
     "text": [
      "This is the models prediction for the death rate in Fulton County up to today: 0.023743911576084388\n"
     ],
     "name": "stdout"
    }
   ]
  },
  {
   "cell_type": "code",
   "metadata": {
    "id": "91lc9hlEQZOk",
    "outputId": "4741ceb0-75cd-463d-98e2-9ce4b4b66e92",
    "colab": {
     "base_uri": "https://localhost:8080/",
     "height": 281
    }
   },
   "source": [
    "plt.scatter(x2,y2)\n",
    "plt.title('COVID-19 Death Rate in Fulton County')\n",
    "plt.grid()\n",
    "plt.plot(x2,y_pred2, color='red')\n",
    "plt.show()"
   ],
   "execution_count": null,
   "outputs": [
    {
     "output_type": "display_data",
     "data": {
      "image/png": "[encoded data removed]",
      "text/plain": [
       "<Figure size 432x288 with 1 Axes>"
      ]
     },
     "metadata": {
      "tags": [],
      "needs_background": "light"
     }
    }
   ]
  },
  {
   "cell_type": "code",
   "metadata": {
    "id": "GaPkYca1Q3_t",
    "outputId": "33b49c40-0ae2-4d3c-96c9-cb0a1a7ec9e6",
    "colab": {
     "base_uri": "https://localhost:8080/"
    }
   },
   "source": [
    "equation2 = (linreg2.intercept_ + linreg2.coef_*(x2))\n",
    "print(equation2[-1])"
   ],
   "execution_count": null,
   "outputs": [
    {
     "output_type": "stream",
     "text": [
      "[0.02374391]\n"
     ],
     "name": "stdout"
    }
   ]
  },
  {
   "cell_type": "markdown",
   "metadata": {
    "id": "hhWY8LvcRZ3X"
   },
   "source": [
    "# Linear Regression for COVID-19 deaths in the state of Georgia:"
   ]
  },
  {
   "cell_type": "code",
   "metadata": {
    "id": "euGFSbxERuDO"
   },
   "source": [
    "x3 = np.array(df2['cases'])\n",
    "y3 = np.array(df2['deaths'])"
   ],
   "execution_count": null,
   "outputs": []
  },
  {
   "cell_type": "code",
   "metadata": {
    "id": "NMd0iuLwUB2j"
   },
   "source": [
    "linreg3 = LinearRegression()"
   ],
   "execution_count": null,
   "outputs": []
  },
  {
   "cell_type": "code",
   "metadata": {
    "id": "ZZug90gFUSjH"
   },
   "source": [
    "x3 = x3.reshape(-1,1)"
   ],
   "execution_count": null,
   "outputs": []
  },
  {
   "cell_type": "code",
   "metadata": {
    "id": "F3iRhsv8UZ5v",
    "outputId": "f13ef10b-5556-4d81-a1f8-3978b1fdaacd",
    "colab": {
     "base_uri": "https://localhost:8080/"
    }
   },
   "source": [
    "linreg3.fit(x3,y3)"
   ],
   "execution_count": null,
   "outputs": [
    {
     "output_type": "execute_result",
     "data": {
      "text/plain": [
       "LinearRegression(copy_X=True, fit_intercept=True, n_jobs=None, normalize=False)"
      ]
     },
     "metadata": {
      "tags": []
     },
     "execution_count": 33
    }
   ]
  },
  {
   "cell_type": "code",
   "metadata": {
    "id": "oHIfAfNqUd_A",
    "outputId": "2dd648f7-12a7-4c28-b826-f077b8707544",
    "colab": {
     "base_uri": "https://localhost:8080/"
    }
   },
   "source": [
    "y_pred3 = linreg3.predict(x3)\n",
    "print('This is the models prediction for total deaths in Georgia up to today: ' + str(y_pred3[-1]))"
   ],
   "execution_count": null,
   "outputs": [
    {
     "output_type": "stream",
     "text": [
      "This is the models prediction for total deaths in Georgia up to today: 8337.425810329249\n"
     ],
     "name": "stdout"
    }
   ]
  },
  {
   "cell_type": "code",
   "metadata": {
    "id": "qDNGnA_9VPPq",
    "outputId": "aac3c120-1fb8-4144-90ca-60ca2849da0d",
    "colab": {
     "base_uri": "https://localhost:8080/",
     "height": 281
    }
   },
   "source": [
    "plt.scatter(x3,y3)\n",
    "plt.title('COVID-19 Deaths in Georgia')\n",
    "plt.grid()\n",
    "plt.plot(x3,y_pred3, color='red')\n",
    "plt.show()"
   ],
   "execution_count": null,
   "outputs": [
    {
     "output_type": "display_data",
     "data": {
      "image/png": "[encoded data removed]",
      "text/plain": [
       "<Figure size 432x288 with 1 Axes>"
      ]
     },
     "metadata": {
      "tags": [],
      "needs_background": "light"
     }
    }
   ]
  },
  {
   "cell_type": "code",
   "metadata": {
    "id": "06mfrWVGVrg-",
    "outputId": "c70ad822-8d3d-4462-a4f4-15473d4c7dd0",
    "colab": {
     "base_uri": "https://localhost:8080/"
    }
   },
   "source": [
    "equation3 = (linreg3.intercept_ + linreg3.coef_*(x3))\n",
    "print(equation3[-1])"
   ],
   "execution_count": null,
   "outputs": [
    {
     "output_type": "stream",
     "text": [
      "[8337.42581033]\n"
     ],
     "name": "stdout"
    }
   ]
  },
  {
   "cell_type": "markdown",
   "metadata": {
    "id": "J5EbkOYLbm6W"
   },
   "source": [
    "# Linear Regression for COVID-19 cases in Georgia:"
   ]
  },
  {
   "cell_type": "code",
   "metadata": {
    "id": "6bJITnIGbpSU"
   },
   "source": [
    "x4 = np.array(df2['deaths'])\n",
    "y4 = np.array(df2['cases'])"
   ],
   "execution_count": null,
   "outputs": []
  },
  {
   "cell_type": "code",
   "metadata": {
    "id": "uWnXEgahbzFO"
   },
   "source": [
    "linreg4 = LinearRegression()"
   ],
   "execution_count": null,
   "outputs": []
  },
  {
   "cell_type": "code",
   "metadata": {
    "id": "EOjKxoAEb2JP"
   },
   "source": [
    "x4 = x4.reshape(-1,1)"
   ],
   "execution_count": null,
   "outputs": []
  },
  {
   "cell_type": "code",
   "metadata": {
    "id": "L2W1qwYbb8gS",
    "outputId": "911bbe57-a39d-421a-ac9d-2ce624d9ef84",
    "colab": {
     "base_uri": "https://localhost:8080/"
    }
   },
   "source": [
    "linreg4.fit(x4,y4)"
   ],
   "execution_count": null,
   "outputs": [
    {
     "output_type": "execute_result",
     "data": {
      "text/plain": [
       "LinearRegression(copy_X=True, fit_intercept=True, n_jobs=None, normalize=False)"
      ]
     },
     "metadata": {
      "tags": []
     },
     "execution_count": 40
    }
   ]
  },
  {
   "cell_type": "code",
   "metadata": {
    "id": "vLVFNdR2b_un",
    "outputId": "28b92cf3-9e2d-4035-d9f1-dbc61d0d3535",
    "colab": {
     "base_uri": "https://localhost:8080/"
    }
   },
   "source": [
    "y_pred4 = linreg4.predict(x4)\n",
    "print('This is the models prediction for total cases in Georgia up to today: ' + str(y_pred4[-1]))"
   ],
   "execution_count": null,
   "outputs": [
    {
     "output_type": "stream",
     "text": [
      "This is the models prediction for total cases in Georgia up to today: 389283.6717823565\n"
     ],
     "name": "stdout"
    }
   ]
  },
  {
   "cell_type": "code",
   "metadata": {
    "id": "FCyueAZQcNha",
    "outputId": "153edb29-af21-4405-9f5a-60ede6070d51",
    "colab": {
     "base_uri": "https://localhost:8080/",
     "height": 281
    }
   },
   "source": [
    "plt.scatter(x4,y4)\n",
    "plt.title('COVID-19 Cases in Georgia')\n",
    "plt.grid()\n",
    "plt.plot(x4,y_pred4, color='red')\n",
    "plt.show()"
   ],
   "execution_count": null,
   "outputs": [
    {
     "output_type": "display_data",
     "data": {
      "image/png": "[encoded data removed]",
      "text/plain": [
       "<Figure size 432x288 with 1 Axes>"
      ]
     },
     "metadata": {
      "tags": [],
      "needs_background": "light"
     }
    }
   ]
  },
  {
   "cell_type": "code",
   "metadata": {
    "id": "P8khirmycVnv",
    "outputId": "c7186b74-019c-4e2d-941d-76cc95ecc403",
    "colab": {
     "base_uri": "https://localhost:8080/"
    }
   },
   "source": [
    "equation4 = (linreg4.intercept_ + linreg4.coef_*(x4))\n",
    "print(equation4[-1])"
   ],
   "execution_count": null,
   "outputs": [
    {
     "output_type": "stream",
     "text": [
      "[389283.67178236]\n"
     ],
     "name": "stdout"
    }
   ]
  },
  {
   "cell_type": "markdown",
   "metadata": {
    "id": "r5-warxfchsT"
   },
   "source": [
    "# Linear Regression for COVID-19 death rate in Georgia:"
   ]
  },
  {
   "cell_type": "code",
   "metadata": {
    "id": "epT6_Yjtckhd"
   },
   "source": [
    "x5 = np.array(df2['deaths'])\n",
    "y5 = np.array(df2['rate'])"
   ],
   "execution_count": null,
   "outputs": []
  },
  {
   "cell_type": "code",
   "metadata": {
    "id": "gjPeFpKSc4Yq"
   },
   "source": [
    "linreg5 = LinearRegression()"
   ],
   "execution_count": null,
   "outputs": []
  },
  {
   "cell_type": "code",
   "metadata": {
    "id": "mgykiz-fc_rr"
   },
   "source": [
    "x5 = x5.reshape(-1,1)"
   ],
   "execution_count": null,
   "outputs": []
  },
  {
   "cell_type": "code",
   "metadata": {
    "id": "z6c-jkj8dEiX",
    "outputId": "adfc1d6b-9b6a-4b13-ffe2-16cebc078395",
    "colab": {
     "base_uri": "https://localhost:8080/"
    }
   },
   "source": [
    "linreg5.fit(x5,y5)"
   ],
   "execution_count": null,
   "outputs": [
    {
     "output_type": "execute_result",
     "data": {
      "text/plain": [
       "LinearRegression(copy_X=True, fit_intercept=True, n_jobs=None, normalize=False)"
      ]
     },
     "metadata": {
      "tags": []
     },
     "execution_count": 47
    }
   ]
  },
  {
   "cell_type": "code",
   "metadata": {
    "id": "uQTVAmXkdI5K",
    "outputId": "90a66393-617d-4f79-f849-d571f3771910",
    "colab": {
     "base_uri": "https://localhost:8080/"
    }
   },
   "source": [
    "y_pred5 = linreg5.predict(x5)\n",
    "print('This is the models prediction for death rate in Georgia up to today: ' + str(y_pred5[-1]))"
   ],
   "execution_count": null,
   "outputs": [
    {
     "output_type": "stream",
     "text": [
      "This is the models prediction for death rate in Georgia up to today: 0.02016329772578806\n"
     ],
     "name": "stdout"
    }
   ]
  },
  {
   "cell_type": "code",
   "metadata": {
    "id": "TRfnSYb1dWAa",
    "outputId": "8a88a8d2-d30f-4395-eb54-3c5e2abff6dd",
    "colab": {
     "base_uri": "https://localhost:8080/",
     "height": 281
    }
   },
   "source": [
    "plt.scatter(x5,y5)\n",
    "plt.title('COVID-19 Death Rate in Georgia')\n",
    "plt.grid()\n",
    "plt.plot(x5,y_pred5, color='red')\n",
    "plt.show()"
   ],
   "execution_count": null,
   "outputs": [
    {
     "output_type": "display_data",
     "data": {
      "image/png": "[encoded data removed]",
      "text/plain": [
       "<Figure size 432x288 with 1 Axes>"
      ]
     },
     "metadata": {
      "tags": [],
      "needs_background": "light"
     }
    }
   ]
  },
  {
   "cell_type": "markdown",
   "metadata": {
    "id": "lOnNmlh9a8DC"
   },
   "source": [
    "# Update 11-09-2020:\n",
    "* Our Linear Regression Model has shown us / predicted\n",
    "    * Cases should continue to rise in Fulton county and all of Georgia\n",
    "    * Total deaths should continue to rise in Fulton County and all of Georgia\n",
    "    * The Death Rate is currently dropping in Fulton County and all of Georgia\n",
    "* Cases and Deaths rising is troubling, but the rate of death from COVID-19 seems to be decreasing due to more tests and non-fatal cases\n",
    "    * The decline in death rate is good and is hopefully a good sign for Georgians\n",
    "\n"
   ]
  }
 ]
}