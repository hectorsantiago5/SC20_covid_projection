{
 "nbformat": 4,
 "nbformat_minor": 0,
 "metadata": {
  "kernelspec": {
   "display_name": "Python 3",
   "language": "python",
   "name": "python3"
  },
  "language_info": {
   "codemirror_mode": {
    "name": "ipython",
    "version": 2
   },
   "file_extension": ".py",
   "mimetype": "text/x-python",
   "name": "python",
   "nbconvert_exporter": "python",
   "pygments_lexer": "ipython2",
   "version": "2.7.6"
  },
  "colab": {
   "name": "covid_projection.ipynb",
   "provenance": [],
   "collapsed_sections": []
  }
 },
 "cells": [
  {
   "cell_type": "markdown",
   "metadata": {
    "collapsed": false,
    "pycharm": {
     "name": "#%% md\n"
    },
    "id": "4LkqIkBhKLVR"
   },
   "source": [
    "# Covid-19 Data for Fulton County, Georgia\n",
    "\n",
    "- This data is made available by [The New York Time's GitHub repo](https://github.com/nytimes/covid-19-data)\n",
    "- This project was created during SC20 Hackathon\n",
    "- We processed the data to provide insights on the COVID-19 impact in Fulton County, Georgia\n",
    "- We Compute the death rate of COVID-19 in Fulton county\n",
    "\n",
    "![QUARANTEAM](https://sc20-hack-9.uc.r.appspot.com/static/quaranteam.png)\n"
   ]
  },
  {
   "cell_type": "code",
   "metadata": {
    "collapsed": true,
    "id": "HTK563ErKLVT",
    "outputId": "c6d63246-1418-43f5-d613-a55df3ca3596",
    "colab": {
     "base_uri": "https://localhost:8080/",
     "height": 368
    }
   },
   "source": [
    "import pandas as pd\n",
    "import requests\n",
    "\n",
    "%matplotlib inline\n",
    "\n",
    "url = \"https://raw.githubusercontent.com/nytimes/covid-19-data/master/us-states.csv\"\n",
    "state_df = pd.read_csv(url)\n",
    "\n",
    "url2 = \"https://raw.githubusercontent.com/nytimes/covid-19-data/master/us-counties.csv\"\n",
    "df = pd.read_csv(url2)\n",
    "\n",
    "\n",
    "# Fulton county data\n",
    "df1 = df[df.fips == 13121]\n",
    "# Get death rate for Fulton county\n",
    "df1['rate'] = df1['deaths'] / df1['cases']\n",
    "df1.tail(7)\n"
   ],
   "execution_count": 10,
   "outputs": [
    {
     "output_type": "stream",
     "text": [
      "/usr/local/lib/python3.6/dist-packages/ipykernel_launcher.py:16: SettingWithCopyWarning: \n",
      "A value is trying to be set on a copy of a slice from a DataFrame.\n",
      "Try using .loc[row_indexer,col_indexer] = value instead\n",
      "\n",
      "See the caveats in the documentation: https://pandas.pydata.org/pandas-docs/stable/user_guide/indexing.html#returning-a-view-versus-a-copy\n",
      "  app.launch_new_instance()\n"
     ],
     "name": "stderr"
    },
    {
     "output_type": "execute_result",
     "data": {
      "text/html": [
       "<div>\n",
       "<style scoped>\n",
       "    .dataframe tbody tr th:only-of-type {\n",
       "        vertical-align: middle;\n",
       "    }\n",
       "\n",
       "    .dataframe tbody tr th {\n",
       "        vertical-align: top;\n",
       "    }\n",
       "\n",
       "    .dataframe thead th {\n",
       "        text-align: right;\n",
       "    }\n",
       "</style>\n",
       "<table border=\"1\" class=\"dataframe\">\n",
       "  <thead>\n",
       "    <tr style=\"text-align: right;\">\n",
       "      <th></th>\n",
       "      <th>date</th>\n",
       "      <th>county</th>\n",
       "      <th>state</th>\n",
       "      <th>fips</th>\n",
       "      <th>cases</th>\n",
       "      <th>deaths</th>\n",
       "      <th>rate</th>\n",
       "    </tr>\n",
       "  </thead>\n",
       "  <tbody>\n",
       "    <tr>\n",
       "      <th>687303</th>\n",
       "      <td>2020-11-01</td>\n",
       "      <td>Fulton</td>\n",
       "      <td>Georgia</td>\n",
       "      <td>13121.0</td>\n",
       "      <td>33817</td>\n",
       "      <td>628</td>\n",
       "      <td>0.018571</td>\n",
       "    </tr>\n",
       "    <tr>\n",
       "      <th>690548</th>\n",
       "      <td>2020-11-02</td>\n",
       "      <td>Fulton</td>\n",
       "      <td>Georgia</td>\n",
       "      <td>13121.0</td>\n",
       "      <td>34027</td>\n",
       "      <td>628</td>\n",
       "      <td>0.018456</td>\n",
       "    </tr>\n",
       "    <tr>\n",
       "      <th>693791</th>\n",
       "      <td>2020-11-03</td>\n",
       "      <td>Fulton</td>\n",
       "      <td>Georgia</td>\n",
       "      <td>13121.0</td>\n",
       "      <td>34155</td>\n",
       "      <td>629</td>\n",
       "      <td>0.018416</td>\n",
       "    </tr>\n",
       "    <tr>\n",
       "      <th>697034</th>\n",
       "      <td>2020-11-04</td>\n",
       "      <td>Fulton</td>\n",
       "      <td>Georgia</td>\n",
       "      <td>13121.0</td>\n",
       "      <td>34388</td>\n",
       "      <td>656</td>\n",
       "      <td>0.019076</td>\n",
       "    </tr>\n",
       "    <tr>\n",
       "      <th>700279</th>\n",
       "      <td>2020-11-05</td>\n",
       "      <td>Fulton</td>\n",
       "      <td>Georgia</td>\n",
       "      <td>13121.0</td>\n",
       "      <td>34605</td>\n",
       "      <td>658</td>\n",
       "      <td>0.019015</td>\n",
       "    </tr>\n",
       "    <tr>\n",
       "      <th>703523</th>\n",
       "      <td>2020-11-06</td>\n",
       "      <td>Fulton</td>\n",
       "      <td>Georgia</td>\n",
       "      <td>13121.0</td>\n",
       "      <td>34801</td>\n",
       "      <td>662</td>\n",
       "      <td>0.019022</td>\n",
       "    </tr>\n",
       "    <tr>\n",
       "      <th>706766</th>\n",
       "      <td>2020-11-07</td>\n",
       "      <td>Fulton</td>\n",
       "      <td>Georgia</td>\n",
       "      <td>13121.0</td>\n",
       "      <td>34940</td>\n",
       "      <td>663</td>\n",
       "      <td>0.018975</td>\n",
       "    </tr>\n",
       "  </tbody>\n",
       "</table>\n",
       "</div>"
      ],
      "text/plain": [
       "              date  county    state     fips  cases  deaths      rate\n",
       "687303  2020-11-01  Fulton  Georgia  13121.0  33817     628  0.018571\n",
       "690548  2020-11-02  Fulton  Georgia  13121.0  34027     628  0.018456\n",
       "693791  2020-11-03  Fulton  Georgia  13121.0  34155     629  0.018416\n",
       "697034  2020-11-04  Fulton  Georgia  13121.0  34388     656  0.019076\n",
       "700279  2020-11-05  Fulton  Georgia  13121.0  34605     658  0.019015\n",
       "703523  2020-11-06  Fulton  Georgia  13121.0  34801     662  0.019022\n",
       "706766  2020-11-07  Fulton  Georgia  13121.0  34940     663  0.018975"
      ]
     },
     "metadata": {
      "tags": []
     },
     "execution_count": 10
    }
   ]
  },
  {
   "cell_type": "code",
   "metadata": {
    "pycharm": {
     "name": "#%%\n"
    },
    "id": "_w_9CGRTKLVg",
    "outputId": "113a16ea-59a6-489c-dc15-c02281c9dfae",
    "colab": {
     "base_uri": "https://localhost:8080/",
     "height": 297
    }
   },
   "source": [
    "df1.describe()\n"
   ],
   "execution_count": 11,
   "outputs": [
    {
     "output_type": "execute_result",
     "data": {
      "text/html": [
       "<div>\n",
       "<style scoped>\n",
       "    .dataframe tbody tr th:only-of-type {\n",
       "        vertical-align: middle;\n",
       "    }\n",
       "\n",
       "    .dataframe tbody tr th {\n",
       "        vertical-align: top;\n",
       "    }\n",
       "\n",
       "    .dataframe thead th {\n",
       "        text-align: right;\n",
       "    }\n",
       "</style>\n",
       "<table border=\"1\" class=\"dataframe\">\n",
       "  <thead>\n",
       "    <tr style=\"text-align: right;\">\n",
       "      <th></th>\n",
       "      <th>fips</th>\n",
       "      <th>cases</th>\n",
       "      <th>deaths</th>\n",
       "      <th>rate</th>\n",
       "    </tr>\n",
       "  </thead>\n",
       "  <tbody>\n",
       "    <tr>\n",
       "      <th>count</th>\n",
       "      <td>251.0</td>\n",
       "      <td>251.000000</td>\n",
       "      <td>251.000000</td>\n",
       "      <td>251.000000</td>\n",
       "    </tr>\n",
       "    <tr>\n",
       "      <th>mean</th>\n",
       "      <td>13121.0</td>\n",
       "      <td>13531.569721</td>\n",
       "      <td>320.860558</td>\n",
       "      <td>0.029069</td>\n",
       "    </tr>\n",
       "    <tr>\n",
       "      <th>std</th>\n",
       "      <td>0.0</td>\n",
       "      <td>11845.628137</td>\n",
       "      <td>213.127493</td>\n",
       "      <td>0.014257</td>\n",
       "    </tr>\n",
       "    <tr>\n",
       "      <th>min</th>\n",
       "      <td>13121.0</td>\n",
       "      <td>2.000000</td>\n",
       "      <td>0.000000</td>\n",
       "      <td>0.000000</td>\n",
       "    </tr>\n",
       "    <tr>\n",
       "      <th>25%</th>\n",
       "      <td>13121.0</td>\n",
       "      <td>3019.000000</td>\n",
       "      <td>126.500000</td>\n",
       "      <td>0.020725</td>\n",
       "    </tr>\n",
       "    <tr>\n",
       "      <th>50%</th>\n",
       "      <td>13121.0</td>\n",
       "      <td>8652.000000</td>\n",
       "      <td>314.000000</td>\n",
       "      <td>0.023082</td>\n",
       "    </tr>\n",
       "    <tr>\n",
       "      <th>75%</th>\n",
       "      <td>13121.0</td>\n",
       "      <td>25585.500000</td>\n",
       "      <td>543.000000</td>\n",
       "      <td>0.041157</td>\n",
       "    </tr>\n",
       "    <tr>\n",
       "      <th>max</th>\n",
       "      <td>13121.0</td>\n",
       "      <td>34940.000000</td>\n",
       "      <td>663.000000</td>\n",
       "      <td>0.057304</td>\n",
       "    </tr>\n",
       "  </tbody>\n",
       "</table>\n",
       "</div>"
      ],
      "text/plain": [
       "          fips         cases      deaths        rate\n",
       "count    251.0    251.000000  251.000000  251.000000\n",
       "mean   13121.0  13531.569721  320.860558    0.029069\n",
       "std        0.0  11845.628137  213.127493    0.014257\n",
       "min    13121.0      2.000000    0.000000    0.000000\n",
       "25%    13121.0   3019.000000  126.500000    0.020725\n",
       "50%    13121.0   8652.000000  314.000000    0.023082\n",
       "75%    13121.0  25585.500000  543.000000    0.041157\n",
       "max    13121.0  34940.000000  663.000000    0.057304"
      ]
     },
     "metadata": {
      "tags": []
     },
     "execution_count": 11
    }
   ]
  },
  {
   "cell_type": "code",
   "metadata": {
    "pycharm": {
     "name": "#%%\n"
    },
    "id": "D-8BGUUtKLVk",
    "outputId": "a069200e-d0e9-4b25-9d87-abe9378ba151",
    "colab": {
     "base_uri": "https://localhost:8080/",
     "height": 1000
    }
   },
   "source": [
    "# remove fips data from plot\n",
    "if df1.fips is not None:\n",
    "    df1.drop('fips', axis='columns', inplace=True)\n",
    "\n",
    "df1.plot(kind='line', x='cases')\n",
    "df1.plot(kind='bar', x='cases')\n",
    "df1.plot(kind='line', x='deaths')\n",
    "df1.plot(kind='bar', x='deaths')\n",
    "df1.hist(figsize=(15,10))\n"
   ],
   "execution_count": 12,
   "outputs": [
    {
     "output_type": "stream",
     "text": [
      "/usr/local/lib/python3.6/dist-packages/pandas/core/frame.py:4174: SettingWithCopyWarning: \n",
      "A value is trying to be set on a copy of a slice from a DataFrame\n",
      "\n",
      "See the caveats in the documentation: https://pandas.pydata.org/pandas-docs/stable/user_guide/indexing.html#returning-a-view-versus-a-copy\n",
      "  errors=errors,\n"
     ],
     "name": "stderr"
    },
    {
     "output_type": "execute_result",
     "data": {
      "text/plain": [
       "array([[<matplotlib.axes._subplots.AxesSubplot object at 0x7f9a116adf98>,\n",
       "        <matplotlib.axes._subplots.AxesSubplot object at 0x7f9a0f371eb8>],\n",
       "       [<matplotlib.axes._subplots.AxesSubplot object at 0x7f9a0f331160>,\n",
       "        <matplotlib.axes._subplots.AxesSubplot object at 0x7f9a0f2e43c8>]],\n",
       "      dtype=object)"
      ]
     },
     "metadata": {
      "tags": []
     },
     "execution_count": 12
    },
    {
     "output_type": "display_data",
     "data": {
      "image/png": "[encoded data removed]",
      "text/plain": [
       "<Figure size 432x288 with 1 Axes>"
      ]
     },
     "metadata": {
      "tags": [],
      "needs_background": "light"
     }
    },
    {
     "output_type": "display_data",
     "data": {
      "image/png": "[encoded data removed]",
      "text/plain": [
       "<Figure size 432x288 with 1 Axes>"
      ]
     },
     "metadata": {
      "tags": [],
      "needs_background": "light"
     }
    },
    {
     "output_type": "display_data",
     "data": {
      "image/png": "[encoded data removed]",
      "text/plain": [
       "<Figure size 432x288 with 1 Axes>"
      ]
     },
     "metadata": {
      "tags": [],
      "needs_background": "light"
     }
    },
    {
     "output_type": "display_data",
     "data": {
      "image/png": "[encoded data removed]",
      "text/plain": [
       "<Figure size 432x288 with 1 Axes>"
      ]
     },
     "metadata": {
      "tags": [],
      "needs_background": "light"
     }
    },
    {
     "output_type": "display_data",
     "data": {
      "image/png": "[encoded data removed]",
      "text/plain": [
       "<Figure size 1080x720 with 4 Axes>"
      ]
     },
     "metadata": {
      "tags": [],
      "needs_background": "light"
     }
    }
   ]
  },
  {
   "cell_type": "markdown",
   "metadata": {
    "collapsed": false,
    "pycharm": {
     "name": "#%% md\n"
    },
    "id": "XWb7jFRiKLVr"
   },
   "source": [
    "# Covid-19 Data for the state of Georgia\n",
    "\n",
    "- This data is made available by [The New York Time's GitHub repo](https://github.com/nytimes/covid-19-data)\n",
    "- We processed the data to provide insights on the COVID-19 impact in Fulton County, Georgia\n",
    "- We Compute the death rate of COVID-19 in Georgia\n"
   ]
  },
  {
   "cell_type": "code",
   "metadata": {
    "pycharm": {
     "name": "#%%\n"
    },
    "id": "gfHCgEYLKLVs",
    "outputId": "a078f8c2-d17e-472b-c329-16b6d91bc2b8",
    "colab": {
     "base_uri": "https://localhost:8080/",
     "height": 368
    }
   },
   "source": [
    "# Georgia COVID data\n",
    "df2 = state_df[state_df.state == 'Georgia']\n",
    "\n",
    "# Get death rate for Georgia\n",
    "df2['rate'] = state_df['deaths'] / state_df['cases']\n",
    "df2.tail(7)"
   ],
   "execution_count": 13,
   "outputs": [
    {
     "output_type": "stream",
     "text": [
      "/usr/local/lib/python3.6/dist-packages/ipykernel_launcher.py:5: SettingWithCopyWarning: \n",
      "A value is trying to be set on a copy of a slice from a DataFrame.\n",
      "Try using .loc[row_indexer,col_indexer] = value instead\n",
      "\n",
      "See the caveats in the documentation: https://pandas.pydata.org/pandas-docs/stable/user_guide/indexing.html#returning-a-view-versus-a-copy\n",
      "  \"\"\"\n"
     ],
     "name": "stderr"
    },
    {
     "output_type": "execute_result",
     "data": {
      "text/html": [
       "<div>\n",
       "<style scoped>\n",
       "    .dataframe tbody tr th:only-of-type {\n",
       "        vertical-align: middle;\n",
       "    }\n",
       "\n",
       "    .dataframe tbody tr th {\n",
       "        vertical-align: top;\n",
       "    }\n",
       "\n",
       "    .dataframe thead th {\n",
       "        text-align: right;\n",
       "    }\n",
       "</style>\n",
       "<table border=\"1\" class=\"dataframe\">\n",
       "  <thead>\n",
       "    <tr style=\"text-align: right;\">\n",
       "      <th></th>\n",
       "      <th>date</th>\n",
       "      <th>state</th>\n",
       "      <th>fips</th>\n",
       "      <th>cases</th>\n",
       "      <th>deaths</th>\n",
       "      <th>rate</th>\n",
       "    </tr>\n",
       "  </thead>\n",
       "  <tbody>\n",
       "    <tr>\n",
       "      <th>13389</th>\n",
       "      <td>2020-11-01</td>\n",
       "      <td>Georgia</td>\n",
       "      <td>13</td>\n",
       "      <td>373700</td>\n",
       "      <td>7792</td>\n",
       "      <td>0.020851</td>\n",
       "    </tr>\n",
       "    <tr>\n",
       "      <th>13444</th>\n",
       "      <td>2020-11-02</td>\n",
       "      <td>Georgia</td>\n",
       "      <td>13</td>\n",
       "      <td>377261</td>\n",
       "      <td>7810</td>\n",
       "      <td>0.020702</td>\n",
       "    </tr>\n",
       "    <tr>\n",
       "      <th>13499</th>\n",
       "      <td>2020-11-03</td>\n",
       "      <td>Georgia</td>\n",
       "      <td>13</td>\n",
       "      <td>378894</td>\n",
       "      <td>7837</td>\n",
       "      <td>0.020684</td>\n",
       "    </tr>\n",
       "    <tr>\n",
       "      <th>13554</th>\n",
       "      <td>2020-11-04</td>\n",
       "      <td>Georgia</td>\n",
       "      <td>13</td>\n",
       "      <td>382113</td>\n",
       "      <td>8303</td>\n",
       "      <td>0.021729</td>\n",
       "    </tr>\n",
       "    <tr>\n",
       "      <th>13609</th>\n",
       "      <td>2020-11-05</td>\n",
       "      <td>Georgia</td>\n",
       "      <td>13</td>\n",
       "      <td>384531</td>\n",
       "      <td>8359</td>\n",
       "      <td>0.021738</td>\n",
       "    </tr>\n",
       "    <tr>\n",
       "      <th>13664</th>\n",
       "      <td>2020-11-06</td>\n",
       "      <td>Georgia</td>\n",
       "      <td>13</td>\n",
       "      <td>387202</td>\n",
       "      <td>8389</td>\n",
       "      <td>0.021666</td>\n",
       "    </tr>\n",
       "    <tr>\n",
       "      <th>13719</th>\n",
       "      <td>2020-11-07</td>\n",
       "      <td>Georgia</td>\n",
       "      <td>13</td>\n",
       "      <td>389257</td>\n",
       "      <td>8427</td>\n",
       "      <td>0.021649</td>\n",
       "    </tr>\n",
       "  </tbody>\n",
       "</table>\n",
       "</div>"
      ],
      "text/plain": [
       "             date    state  fips   cases  deaths      rate\n",
       "13389  2020-11-01  Georgia    13  373700    7792  0.020851\n",
       "13444  2020-11-02  Georgia    13  377261    7810  0.020702\n",
       "13499  2020-11-03  Georgia    13  378894    7837  0.020684\n",
       "13554  2020-11-04  Georgia    13  382113    8303  0.021729\n",
       "13609  2020-11-05  Georgia    13  384531    8359  0.021738\n",
       "13664  2020-11-06  Georgia    13  387202    8389  0.021666\n",
       "13719  2020-11-07  Georgia    13  389257    8427  0.021649"
      ]
     },
     "metadata": {
      "tags": []
     },
     "execution_count": 13
    }
   ]
  },
  {
   "cell_type": "code",
   "metadata": {
    "pycharm": {
     "name": "#%%\n"
    },
    "id": "WWaWv5fqKLVz",
    "outputId": "7b20afe7-4f19-4257-8d85-4a5647f2dca9",
    "colab": {
     "base_uri": "https://localhost:8080/",
     "height": 297
    }
   },
   "source": [
    "df2.describe()"
   ],
   "execution_count": 14,
   "outputs": [
    {
     "output_type": "execute_result",
     "data": {
      "text/html": [
       "<div>\n",
       "<style scoped>\n",
       "    .dataframe tbody tr th:only-of-type {\n",
       "        vertical-align: middle;\n",
       "    }\n",
       "\n",
       "    .dataframe tbody tr th {\n",
       "        vertical-align: top;\n",
       "    }\n",
       "\n",
       "    .dataframe thead th {\n",
       "        text-align: right;\n",
       "    }\n",
       "</style>\n",
       "<table border=\"1\" class=\"dataframe\">\n",
       "  <thead>\n",
       "    <tr style=\"text-align: right;\">\n",
       "      <th></th>\n",
       "      <th>fips</th>\n",
       "      <th>cases</th>\n",
       "      <th>deaths</th>\n",
       "      <th>rate</th>\n",
       "    </tr>\n",
       "  </thead>\n",
       "  <tbody>\n",
       "    <tr>\n",
       "      <th>count</th>\n",
       "      <td>251.0</td>\n",
       "      <td>251.000000</td>\n",
       "      <td>251.000000</td>\n",
       "      <td>251.000000</td>\n",
       "    </tr>\n",
       "    <tr>\n",
       "      <th>mean</th>\n",
       "      <td>13.0</td>\n",
       "      <td>141920.235060</td>\n",
       "      <td>3398.553785</td>\n",
       "      <td>0.029057</td>\n",
       "    </tr>\n",
       "    <tr>\n",
       "      <th>std</th>\n",
       "      <td>0.0</td>\n",
       "      <td>128684.279537</td>\n",
       "      <td>2585.494699</td>\n",
       "      <td>0.011400</td>\n",
       "    </tr>\n",
       "    <tr>\n",
       "      <th>min</th>\n",
       "      <td>13.0</td>\n",
       "      <td>2.000000</td>\n",
       "      <td>0.000000</td>\n",
       "      <td>0.000000</td>\n",
       "    </tr>\n",
       "    <tr>\n",
       "      <th>25%</th>\n",
       "      <td>13.0</td>\n",
       "      <td>27984.000000</td>\n",
       "      <td>1198.000000</td>\n",
       "      <td>0.021385</td>\n",
       "    </tr>\n",
       "    <tr>\n",
       "      <th>50%</th>\n",
       "      <td>13.0</td>\n",
       "      <td>89489.000000</td>\n",
       "      <td>2812.000000</td>\n",
       "      <td>0.023462</td>\n",
       "    </tr>\n",
       "    <tr>\n",
       "      <th>75%</th>\n",
       "      <td>13.0</td>\n",
       "      <td>265961.000000</td>\n",
       "      <td>5871.000000</td>\n",
       "      <td>0.040680</td>\n",
       "    </tr>\n",
       "    <tr>\n",
       "      <th>max</th>\n",
       "      <td>13.0</td>\n",
       "      <td>389257.000000</td>\n",
       "      <td>8427.000000</td>\n",
       "      <td>0.044955</td>\n",
       "    </tr>\n",
       "  </tbody>\n",
       "</table>\n",
       "</div>"
      ],
      "text/plain": [
       "        fips          cases       deaths        rate\n",
       "count  251.0     251.000000   251.000000  251.000000\n",
       "mean    13.0  141920.235060  3398.553785    0.029057\n",
       "std      0.0  128684.279537  2585.494699    0.011400\n",
       "min     13.0       2.000000     0.000000    0.000000\n",
       "25%     13.0   27984.000000  1198.000000    0.021385\n",
       "50%     13.0   89489.000000  2812.000000    0.023462\n",
       "75%     13.0  265961.000000  5871.000000    0.040680\n",
       "max     13.0  389257.000000  8427.000000    0.044955"
      ]
     },
     "metadata": {
      "tags": []
     },
     "execution_count": 14
    }
   ]
  },
  {
   "cell_type": "code",
   "metadata": {
    "pycharm": {
     "name": "#%%\n"
    },
    "id": "puWawR5WKLWC",
    "outputId": "8a3bac0a-21fa-41b3-9a21-ae461da0dd20",
    "colab": {
     "base_uri": "https://localhost:8080/",
     "height": 1000
    }
   },
   "source": [
    "# remove fips data from plot\n",
    "if df2.fips is not None:\n",
    "    df2.drop('fips', axis='columns', inplace=True)\n",
    "else:\n",
    "    pass\n",
    "\n",
    "df2.plot(kind='line', x='cases')\n",
    "df2.plot(kind='bar', x='cases')\n",
    "df2.plot(kind='line', x='deaths')\n",
    "df2.plot(kind='bar', x='deaths')\n",
    "df2.hist(figsize=(15,10))"
   ],
   "execution_count": 15,
   "outputs": [
    {
     "output_type": "stream",
     "text": [
      "/usr/local/lib/python3.6/dist-packages/pandas/core/frame.py:4174: SettingWithCopyWarning: \n",
      "A value is trying to be set on a copy of a slice from a DataFrame\n",
      "\n",
      "See the caveats in the documentation: https://pandas.pydata.org/pandas-docs/stable/user_guide/indexing.html#returning-a-view-versus-a-copy\n",
      "  errors=errors,\n"
     ],
     "name": "stderr"
    },
    {
     "output_type": "execute_result",
     "data": {
      "text/plain": [
       "array([[<matplotlib.axes._subplots.AxesSubplot object at 0x7f9a103e5860>,\n",
       "        <matplotlib.axes._subplots.AxesSubplot object at 0x7f9a0fdc53c8>],\n",
       "       [<matplotlib.axes._subplots.AxesSubplot object at 0x7f9a0fe4d630>,\n",
       "        <matplotlib.axes._subplots.AxesSubplot object at 0x7f9a0ff66898>]],\n",
       "      dtype=object)"
      ]
     },
     "metadata": {
      "tags": []
     },
     "execution_count": 15
    },
    {
     "output_type": "display_data",
     "data": {
      "image/png": "[encoded data removed]",
      "text/plain": [
       "<Figure size 432x288 with 1 Axes>"
      ]
     },
     "metadata": {
      "tags": [],
      "needs_background": "light"
     }
    },
    {
     "output_type": "display_data",
     "data": {
      "image/png": "[encoded data removed]",
      "text/plain": [
       "<Figure size 432x288 with 1 Axes>"
      ]
     },
     "metadata": {
      "tags": [],
      "needs_background": "light"
     }
    },
    {
     "output_type": "display_data",
     "data": {
      "image/png": "[encoded data removed]",
      "text/plain": [
       "<Figure size 432x288 with 1 Axes>"
      ]
     },
     "metadata": {
      "tags": [],
      "needs_background": "light"
     }
    },
    {
     "output_type": "display_data",
     "data": {
      "image/png": "[encoded data removed]",
      "text/plain": [
       "<Figure size 432x288 with 1 Axes>"
      ]
     },
     "metadata": {
      "tags": [],
      "needs_background": "light"
     }
    },
    {
     "output_type": "display_data",
     "data": {
      "image/png": "[encoded data removed]",
      "text/plain": [
       "<Figure size 1080x720 with 4 Axes>"
      ]
     },
     "metadata": {
      "tags": [],
      "needs_background": "light"
     }
    }
   ]
  },
  {
   "cell_type": "markdown",
   "metadata": {
    "collapsed": false,
    "pycharm": {
     "name": "#%% md\n"
    },
    "id": "ETFgeP9sKLWJ"
   },
   "source": [
    "# Project Update\n",
    "* So far we have seen that the COVID-19 death rate is nearly equal in Fulton County to the entire state of Georgia\n",
    "    * According to the 2010 United States Census Fulton county is one of if not the most populated counties in Georgia\n",
    "* In the following cells we will be using Linear Regression to predict what the COVID-19 impact will look like for Fulton County, Georgia"
   ]
  },
  {
   "cell_type": "code",
   "metadata": {
    "pycharm": {
     "name": "#%%\n"
    },
    "id": "xQePIA-IKLWK"
   },
   "source": [
    "import numpy as np\n",
    "import matplotlib.pyplot as plt\n",
    "from sklearn.linear_model import LinearRegression"
   ],
   "execution_count": 16,
   "outputs": []
  },
  {
   "cell_type": "code",
   "metadata": {
    "pycharm": {
     "name": "#%%\n"
    },
    "id": "ilY3p_NIKLWN"
   },
   "source": [
    "x = np.array(df1['cases'])\n",
    "y = np.array(df1['deaths'])"
   ],
   "execution_count": 17,
   "outputs": []
  },
  {
   "cell_type": "code",
   "metadata": {
    "pycharm": {
     "name": "#%%\n"
    },
    "id": "2pKu52niKLWR"
   },
   "source": [
    "linreg = LinearRegression()"
   ],
   "execution_count": 18,
   "outputs": []
  },
  {
   "cell_type": "code",
   "metadata": {
    "pycharm": {
     "name": "#%%\n"
    },
    "id": "k5gEpu2KKLWU"
   },
   "source": [
    "x = x.reshape(-1,1)\n"
   ],
   "execution_count": 19,
   "outputs": []
  },
  {
   "cell_type": "code",
   "metadata": {
    "pycharm": {
     "name": "#%%\n"
    },
    "id": "We3R4CP0KLWc",
    "outputId": "ba3135f3-4f93-4ce4-e39e-cf4dfe01b699",
    "colab": {
     "base_uri": "https://localhost:8080/"
    }
   },
   "source": [
    "linreg.fit(x,y)"
   ],
   "execution_count": 20,
   "outputs": [
    {
     "output_type": "execute_result",
     "data": {
      "text/plain": [
       "LinearRegression(copy_X=True, fit_intercept=True, n_jobs=None, normalize=False)"
      ]
     },
     "metadata": {
      "tags": []
     },
     "execution_count": 20
    }
   ]
  },
  {
   "cell_type": "markdown",
   "metadata": {
    "collapsed": false,
    "pycharm": {
     "name": "#%% md\n"
    },
    "id": "IDH3dSiEKLWj"
   },
   "source": [
    "# Linear Regression for COVID-19 deaths in Fulton County, Georgia:"
   ]
  },
  {
   "cell_type": "code",
   "metadata": {
    "pycharm": {
     "name": "#%%\n"
    },
    "id": "L27Zy_OCKLWk",
    "outputId": "6708a0d0-bb31-449e-9629-c64efba72186",
    "colab": {
     "base_uri": "https://localhost:8080/"
    }
   },
   "source": [
    "y_pred = linreg.predict(x)\n",
    "print('This is the models prediction for total deaths in Fulton County up to today: ' + str(y_pred[-1]))"
   ],
   "execution_count": 21,
   "outputs": [
    {
     "output_type": "stream",
     "text": [
      "This is the models prediction for total deaths in Fulton County up to today: 692.1655528349222\n"
     ],
     "name": "stdout"
    }
   ]
  },
  {
   "cell_type": "code",
   "metadata": {
    "pycharm": {
     "name": "#%%\n"
    },
    "id": "lxqWk_sjKLWo",
    "outputId": "cefeec5c-3cd4-4c0f-8855-60acd245a475",
    "colab": {
     "base_uri": "https://localhost:8080/",
     "height": 281
    }
   },
   "source": [
    "# Create a scatter plot with our linear regression model\n",
    "plt.scatter(x,y)\n",
    "plt.title('COVID-19 Deaths in Fulton County')\n",
    "plt.grid()\n",
    "plt.plot(x,y_pred, color='red')\n",
    "plt.show()"
   ],
   "execution_count": 22,
   "outputs": [
    {
     "output_type": "display_data",
     "data": {
      "image/png": "[encoded data removed]",
      "text/plain": [
       "<Figure size 432x288 with 1 Axes>"
      ]
     },
     "metadata": {
      "tags": [],
      "needs_background": "light"
     }
    }
   ]
  },
  {
   "cell_type": "code",
   "metadata": {
    "pycharm": {
     "name": "#%%\n"
    },
    "id": "VYrG_zEVKLWw",
    "outputId": "91d44b66-7070-48d3-ce28-be5f9bf3f07f",
    "colab": {
     "base_uri": "https://localhost:8080/"
    }
   },
   "source": [
    "equation = (linreg.intercept_ + linreg.coef_*(x))\n",
    "print(equation[-1])"
   ],
   "execution_count": 85,
   "outputs": [
    {
     "output_type": "stream",
     "text": [
      "[692.16555283]\n"
     ],
     "name": "stdout"
    }
   ]
  },
  {
   "cell_type": "code",
   "metadata": {
    "pycharm": {
     "name": "#%%\n"
    },
    "id": "UUUYlCV_KLWy"
   },
   "source": [
    "x1 = np.array(df1['deaths'])\n",
    "y1 = np.array(df1['cases'])"
   ],
   "execution_count": 40,
   "outputs": []
  },
  {
   "cell_type": "code",
   "metadata": {
    "pycharm": {
     "name": "#%%\n"
    },
    "id": "6i1CRNzSKLWz"
   },
   "source": [
    "linreg1 = LinearRegression()\n"
   ],
   "execution_count": 41,
   "outputs": []
  },
  {
   "cell_type": "code",
   "metadata": {
    "pycharm": {
     "name": "#%%\n"
    },
    "id": "YvVet09vKLW2"
   },
   "source": [
    "x1 = x1.reshape(-1,1)"
   ],
   "execution_count": 43,
   "outputs": []
  },
  {
   "cell_type": "code",
   "metadata": {
    "pycharm": {
     "name": "#%%\n"
    },
    "id": "a1wMwXl6KLW4",
    "outputId": "714285c0-ae2c-4b1e-b323-6189fb3e9b7e",
    "colab": {
     "base_uri": "https://localhost:8080/"
    }
   },
   "source": [
    "linreg1.fit(x1,y1)"
   ],
   "execution_count": 44,
   "outputs": [
    {
     "output_type": "execute_result",
     "data": {
      "text/plain": [
       "LinearRegression(copy_X=True, fit_intercept=True, n_jobs=None, normalize=False)"
      ]
     },
     "metadata": {
      "tags": []
     },
     "execution_count": 44
    }
   ]
  },
  {
   "cell_type": "markdown",
   "metadata": {
    "collapsed": false,
    "pycharm": {
     "name": "#%% md\n"
    },
    "id": "oJ5D1PgQKLW6"
   },
   "source": [
    "# Linear Regression for COVID-19 cases in Fulton County, Georgia:"
   ]
  },
  {
   "cell_type": "code",
   "metadata": {
    "pycharm": {
     "name": "#%%\n"
    },
    "id": "CVi31q54KLW6",
    "outputId": "a349017c-4adf-4f33-b559-c9e1f12ea040",
    "colab": {
     "base_uri": "https://localhost:8080/"
    }
   },
   "source": [
    "y_pred1 = linreg1.predict(x1)\n",
    "print('This is the models prediction for total cases in Fulton County up to today: ' + str(y_pred1[-1]))"
   ],
   "execution_count": 45,
   "outputs": [
    {
     "output_type": "stream",
     "text": [
      "This is the models prediction for total cases in Fulton County up to today: 31862.577640719832\n"
     ],
     "name": "stdout"
    }
   ]
  },
  {
   "cell_type": "code",
   "metadata": {
    "pycharm": {
     "name": "#%%\n"
    },
    "id": "v6vBxImiKLW8",
    "outputId": "65c69d14-8426-4a2e-f861-1633bb06f8af",
    "colab": {
     "base_uri": "https://localhost:8080/",
     "height": 281
    }
   },
   "source": [
    "plt.scatter(x1,y1)\n",
    "plt.title('COVID-19 Cases in Fulton County')\n",
    "plt.grid()\n",
    "plt.plot(x1,y_pred1, color='red')\n",
    "plt.show()"
   ],
   "execution_count": 46,
   "outputs": [
    {
     "output_type": "display_data",
     "data": {
      "image/png": "[encoded data removed]",
      "text/plain": [
       "<Figure size 432x288 with 1 Axes>"
      ]
     },
     "metadata": {
      "tags": [],
      "needs_background": "light"
     }
    }
   ]
  },
  {
   "cell_type": "code",
   "metadata": {
    "pycharm": {
     "name": "#%%\n"
    },
    "id": "g9jM1v9mKLW_",
    "outputId": "319ce762-fe3c-473d-e138-10812ec9e2b4",
    "colab": {
     "base_uri": "https://localhost:8080/"
    }
   },
   "source": [
    "equation1 = (linreg1.intercept_ + linreg1.coef_*(x1))\n",
    "print(equation1[-1])\n"
   ],
   "execution_count": 84,
   "outputs": [
    {
     "output_type": "stream",
     "text": [
      "[31862.57764072]\n"
     ],
     "name": "stdout"
    }
   ]
  },
  {
   "cell_type": "code",
   "metadata": {
    "id": "1p4m6SeDPOHT"
   },
   "source": [
    "x2 = np.array(df1['deaths'])\n",
    "y2 = np.array(df1['rate'])"
   ],
   "execution_count": 48,
   "outputs": []
  },
  {
   "cell_type": "code",
   "metadata": {
    "id": "wSR8h4cqPuOs"
   },
   "source": [
    "linreg2 = LinearRegression()"
   ],
   "execution_count": 49,
   "outputs": []
  },
  {
   "cell_type": "code",
   "metadata": {
    "id": "JLzZh2jLPyh_"
   },
   "source": [
    "x2 = x2.reshape(-1,1)"
   ],
   "execution_count": 50,
   "outputs": []
  },
  {
   "cell_type": "code",
   "metadata": {
    "id": "4dpZAoDvP2zZ",
    "outputId": "9bde7dfd-7403-43d2-99bf-d42ee36f864d",
    "colab": {
     "base_uri": "https://localhost:8080/"
    }
   },
   "source": [
    "linreg2.fit(x2,y2)"
   ],
   "execution_count": 51,
   "outputs": [
    {
     "output_type": "execute_result",
     "data": {
      "text/plain": [
       "LinearRegression(copy_X=True, fit_intercept=True, n_jobs=None, normalize=False)"
      ]
     },
     "metadata": {
      "tags": []
     },
     "execution_count": 51
    }
   ]
  },
  {
   "cell_type": "markdown",
   "metadata": {
    "id": "LzIVcKe9QDqP"
   },
   "source": [
    "# Linear Regression for COVID-19 death rate in Fulton County, Georgia:\n"
   ]
  },
  {
   "cell_type": "code",
   "metadata": {
    "id": "mWdaOntDQIf-",
    "outputId": "27d7d418-fa51-44dc-ae9d-39c10feecf39",
    "colab": {
     "base_uri": "https://localhost:8080/"
    }
   },
   "source": [
    "y_pred2 = linreg2.predict(x2)\n",
    "print('This is the models prediction for the death rate in Fulton County up to today: ' + str(y_pred2[-1]))"
   ],
   "execution_count": 52,
   "outputs": [
    {
     "output_type": "stream",
     "text": [
      "This is the models prediction for the death rate in Fulton County up to today: 0.023813370562387505\n"
     ],
     "name": "stdout"
    }
   ]
  },
  {
   "cell_type": "code",
   "metadata": {
    "id": "91lc9hlEQZOk",
    "outputId": "a21408ea-0014-4ccb-f56e-39a37156e435",
    "colab": {
     "base_uri": "https://localhost:8080/",
     "height": 281
    }
   },
   "source": [
    "plt.scatter(x2,y2)\n",
    "plt.title('COVID-19 Death Rate in Fulton County')\n",
    "plt.grid()\n",
    "plt.plot(x2,y_pred2, color='red')\n",
    "plt.show()"
   ],
   "execution_count": 53,
   "outputs": [
    {
     "output_type": "display_data",
     "data": {
      "image/png": "[encoded data removed]",
      "text/plain": [
       "<Figure size 432x288 with 1 Axes>"
      ]
     },
     "metadata": {
      "tags": [],
      "needs_background": "light"
     }
    }
   ]
  },
  {
   "cell_type": "code",
   "metadata": {
    "id": "GaPkYca1Q3_t",
    "outputId": "40a67578-9470-405a-cb71-20c2b8f93e8c",
    "colab": {
     "base_uri": "https://localhost:8080/"
    }
   },
   "source": [
    "equation2 = (linreg2.intercept_ + linreg2.coef_*(x2))\n",
    "print(equation2[-1])"
   ],
   "execution_count": 83,
   "outputs": [
    {
     "output_type": "stream",
     "text": [
      "[0.02381337]\n"
     ],
     "name": "stdout"
    }
   ]
  },
  {
   "cell_type": "markdown",
   "metadata": {
    "id": "hhWY8LvcRZ3X"
   },
   "source": [
    "# Linear Regression for COVID-19 deaths in the state of Georgia:"
   ]
  },
  {
   "cell_type": "code",
   "metadata": {
    "id": "euGFSbxERuDO"
   },
   "source": [
    "x3 = np.array(df2['cases'])\n",
    "y3 = np.array(df2['deaths'])"
   ],
   "execution_count": 101,
   "outputs": []
  },
  {
   "cell_type": "code",
   "metadata": {
    "id": "NMd0iuLwUB2j"
   },
   "source": [
    "linreg3 = LinearRegression()"
   ],
   "execution_count": 102,
   "outputs": []
  },
  {
   "cell_type": "code",
   "metadata": {
    "id": "ZZug90gFUSjH"
   },
   "source": [
    "x3 = x3.reshape(-1,1)"
   ],
   "execution_count": 103,
   "outputs": []
  },
  {
   "cell_type": "code",
   "metadata": {
    "id": "F3iRhsv8UZ5v",
    "outputId": "ee69b14c-9b50-47f2-e0cd-1d8cf39c3ae2",
    "colab": {
     "base_uri": "https://localhost:8080/"
    }
   },
   "source": [
    "linreg3.fit(x3,y3)"
   ],
   "execution_count": 104,
   "outputs": [
    {
     "output_type": "execute_result",
     "data": {
      "text/plain": [
       "LinearRegression(copy_X=True, fit_intercept=True, n_jobs=None, normalize=False)"
      ]
     },
     "metadata": {
      "tags": []
     },
     "execution_count": 104
    }
   ]
  },
  {
   "cell_type": "code",
   "metadata": {
    "id": "oHIfAfNqUd_A",
    "outputId": "64ebe8e8-f48d-439e-953f-2cc00d4d7f84",
    "colab": {
     "base_uri": "https://localhost:8080/"
    }
   },
   "source": [
    "y_pred3 = linreg3.predict(x3)\n",
    "print('This is the models prediction for total deaths in Georgia up to today: ' + str(y_pred3[-1]))"
   ],
   "execution_count": 105,
   "outputs": [
    {
     "output_type": "stream",
     "text": [
      "This is the models prediction for total deaths in Georgia up to today: 8308.712899646409\n"
     ],
     "name": "stdout"
    }
   ]
  },
  {
   "cell_type": "code",
   "metadata": {
    "id": "qDNGnA_9VPPq",
    "outputId": "1d3a79c9-2260-4f8e-ea5c-54d7edbde609",
    "colab": {
     "base_uri": "https://localhost:8080/",
     "height": 281
    }
   },
   "source": [
    "plt.scatter(x3,y3)\n",
    "plt.title('COVID-19 Deaths in Georgia')\n",
    "plt.grid()\n",
    "plt.plot(x3,y_pred3, color='red')\n",
    "plt.show()"
   ],
   "execution_count": 106,
   "outputs": [
    {
     "output_type": "display_data",
     "data": {
      "image/png": "[encoded data removed]",
      "text/plain": [
       "<Figure size 432x288 with 1 Axes>"
      ]
     },
     "metadata": {
      "tags": [],
      "needs_background": "light"
     }
    }
   ]
  },
  {
   "cell_type": "code",
   "metadata": {
    "id": "06mfrWVGVrg-",
    "outputId": "744c1a73-946f-41dd-ce42-678c7355f3f9",
    "colab": {
     "base_uri": "https://localhost:8080/"
    }
   },
   "source": [
    "equation3 = (linreg3.intercept_ + linreg3.coef_*(x3))\n",
    "print(equation3[-1])"
   ],
   "execution_count": 81,
   "outputs": [
    {
     "output_type": "stream",
     "text": [
      "[8308.71289965]\n"
     ],
     "name": "stdout"
    }
   ]
  },
  {
   "cell_type": "markdown",
   "metadata": {
    "id": "J5EbkOYLbm6W"
   },
   "source": [
    "# Linear Regression for COVID-19 cases in Georgia:"
   ]
  },
  {
   "cell_type": "code",
   "metadata": {
    "id": "6bJITnIGbpSU"
   },
   "source": [
    "x4 = np.array(df2['deaths'])\n",
    "y4 = np.array(df2['cases'])"
   ],
   "execution_count": 107,
   "outputs": []
  },
  {
   "cell_type": "code",
   "metadata": {
    "id": "uWnXEgahbzFO"
   },
   "source": [
    "linreg4 = LinearRegression()"
   ],
   "execution_count": 109,
   "outputs": []
  },
  {
   "cell_type": "code",
   "metadata": {
    "id": "EOjKxoAEb2JP"
   },
   "source": [
    "x4 = x4.reshape(-1,1)"
   ],
   "execution_count": 110,
   "outputs": []
  },
  {
   "cell_type": "code",
   "metadata": {
    "id": "L2W1qwYbb8gS",
    "outputId": "45f2a07c-a1be-449d-f405-e8af41a862dd",
    "colab": {
     "base_uri": "https://localhost:8080/"
    }
   },
   "source": [
    "linreg4.fit(x4,y4)"
   ],
   "execution_count": 111,
   "outputs": [
    {
     "output_type": "execute_result",
     "data": {
      "text/plain": [
       "LinearRegression(copy_X=True, fit_intercept=True, n_jobs=None, normalize=False)"
      ]
     },
     "metadata": {
      "tags": []
     },
     "execution_count": 111
    }
   ]
  },
  {
   "cell_type": "code",
   "metadata": {
    "id": "vLVFNdR2b_un",
    "outputId": "a44b8afe-400d-44f4-dde4-e3b202a5266c",
    "colab": {
     "base_uri": "https://localhost:8080/"
    }
   },
   "source": [
    "y_pred4 = linreg4.predict(x4)\n",
    "print('This is the models prediction for total cases in Georgia up to today: ' + str(y_pred4[-1]))"
   ],
   "execution_count": 112,
   "outputs": [
    {
     "output_type": "stream",
     "text": [
      "This is the models prediction for total cases in Georgia up to today: 389209.0004056523\n"
     ],
     "name": "stdout"
    }
   ]
  },
  {
   "cell_type": "code",
   "metadata": {
    "id": "FCyueAZQcNha",
    "outputId": "7d72ed71-097a-422a-c031-2a93ca82ff56",
    "colab": {
     "base_uri": "https://localhost:8080/",
     "height": 281
    }
   },
   "source": [
    "plt.scatter(x4,y4)\n",
    "plt.title('COVID-19 Cases in Georgia')\n",
    "plt.grid()\n",
    "plt.plot(x4,y_pred4, color='red')\n",
    "plt.show()"
   ],
   "execution_count": 113,
   "outputs": [
    {
     "output_type": "display_data",
     "data": {
      "image/png": "[encoded data removed]",
      "text/plain": [
       "<Figure size 432x288 with 1 Axes>"
      ]
     },
     "metadata": {
      "tags": [],
      "needs_background": "light"
     }
    }
   ]
  },
  {
   "cell_type": "code",
   "metadata": {
    "id": "P8khirmycVnv",
    "outputId": "dcf32dd9-4f91-45b0-f10c-9bcc5386802f",
    "colab": {
     "base_uri": "https://localhost:8080/"
    }
   },
   "source": [
    "equation4 = (linreg4.intercept_ + linreg4.coef_*(x4))\n",
    "print(equation4[-1])"
   ],
   "execution_count": 114,
   "outputs": [
    {
     "output_type": "stream",
     "text": [
      "[389209.00040565]\n"
     ],
     "name": "stdout"
    }
   ]
  },
  {
   "cell_type": "markdown",
   "metadata": {
    "id": "r5-warxfchsT"
   },
   "source": [
    "# Linear Regression for COVID-19 death rate in Georgia:"
   ]
  },
  {
   "cell_type": "code",
   "metadata": {
    "id": "epT6_Yjtckhd"
   },
   "source": [
    "x5 = np.array(df2['deaths'])\n",
    "y5 = np.array(df2['rate'])"
   ],
   "execution_count": 115,
   "outputs": []
  },
  {
   "cell_type": "code",
   "metadata": {
    "id": "gjPeFpKSc4Yq"
   },
   "source": [
    "linreg5 = LinearRegression()"
   ],
   "execution_count": 116,
   "outputs": []
  },
  {
   "cell_type": "code",
   "metadata": {
    "id": "mgykiz-fc_rr"
   },
   "source": [
    "x5 = x5.reshape(-1,1)"
   ],
   "execution_count": 117,
   "outputs": []
  },
  {
   "cell_type": "code",
   "metadata": {
    "id": "z6c-jkj8dEiX",
    "outputId": "f0f23f99-8180-4c6a-a28b-c92c619fe03b",
    "colab": {
     "base_uri": "https://localhost:8080/"
    }
   },
   "source": [
    "linreg5.fit(x5,y5)"
   ],
   "execution_count": 118,
   "outputs": [
    {
     "output_type": "execute_result",
     "data": {
      "text/plain": [
       "LinearRegression(copy_X=True, fit_intercept=True, n_jobs=None, normalize=False)"
      ]
     },
     "metadata": {
      "tags": []
     },
     "execution_count": 118
    }
   ]
  },
  {
   "cell_type": "code",
   "metadata": {
    "id": "uQTVAmXkdI5K",
    "outputId": "1c90ecb8-76c7-49be-ca0a-8f58b5527b17",
    "colab": {
     "base_uri": "https://localhost:8080/"
    }
   },
   "source": [
    "y_pred5 = linreg5.predict(x5)\n",
    "print('This is the models prediction for death rate in Georgia up to today: ' + str(y_pred5[-1]))"
   ],
   "execution_count": 119,
   "outputs": [
    {
     "output_type": "stream",
     "text": [
      "This is the models prediction for death rate in Georgia up to today: 0.02013805795607579\n"
     ],
     "name": "stdout"
    }
   ]
  },
  {
   "cell_type": "code",
   "metadata": {
    "id": "TRfnSYb1dWAa",
    "outputId": "d76f523e-ffd4-4b57-be47-1f397473f404",
    "colab": {
     "base_uri": "https://localhost:8080/",
     "height": 281
    }
   },
   "source": [
    "plt.scatter(x5,y5)\n",
    "plt.title('COVID-19 Death Rate in Georgia')\n",
    "plt.grid()\n",
    "plt.plot(x5,y_pred5, color='red')\n",
    "plt.show()"
   ],
   "execution_count": 120,
   "outputs": [
    {
     "output_type": "display_data",
     "data": {
      "image/png": "[encoded data removed]",
      "text/plain": [
       "<Figure size 432x288 with 1 Axes>"
      ]
     },
     "metadata": {
      "tags": [],
      "needs_background": "light"
     }
    }
   ]
  }
 ]
}